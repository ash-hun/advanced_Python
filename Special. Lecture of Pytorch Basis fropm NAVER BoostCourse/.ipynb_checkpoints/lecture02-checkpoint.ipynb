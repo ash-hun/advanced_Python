{
 "cells": [
  {
   "cell_type": "markdown",
   "metadata": {},
   "source": [
    "# PyTorch Basic\n",
    "\n",
    "numpy + AutoGrad(자동미분)"
   ]
  },
  {
   "cell_type": "code",
   "execution_count": 1,
   "metadata": {},
   "outputs": [],
   "source": [
    "import numpy as np\n",
    "import torch"
   ]
  },
  {
   "cell_type": "code",
   "execution_count": 2,
   "metadata": {},
   "outputs": [
    {
     "name": "stdout",
     "output_type": "stream",
     "text": [
      "[[0 1]\n",
      " [2 3]\n",
      " [4 5]\n",
      " [6 7]\n",
      " [8 9]]\n",
      "ndim : 2, shape : (5, 2)\n",
      "[[0 1 2 3 4]\n",
      " [5 6 7 8 9]]\n",
      "ndim : 2, shape : (2, 5)\n"
     ]
    }
   ],
   "source": [
    "# numpy - ndarray\n",
    "n_array = np.arange(10).reshape(5,2)\n",
    "print(n_array)\n",
    "print(f\"ndim : {n_array.ndim}, shape : {n_array.shape}\")\n",
    "n_array = np.arange(10).reshape(2,5)\n",
    "print(n_array)\n",
    "print(f\"ndim : {n_array.ndim}, shape : {n_array.shape}\")"
   ]
  },
  {
   "cell_type": "code",
   "execution_count": 3,
   "metadata": {},
   "outputs": [
    {
     "name": "stdout",
     "output_type": "stream",
     "text": [
      "tensor([[0., 1., 2., 3., 4.],\n",
      "        [5., 6., 7., 8., 9.]])\n",
      "ndim : 2, shape : torch.Size([2, 5])\n"
     ]
    }
   ],
   "source": [
    "t_array = torch.FloatTensor(n_array)\n",
    "print(t_array)\n",
    "print(f\"ndim : {t_array.ndim}, shape : {t_array.shape}\")"
   ]
  },
  {
   "cell_type": "code",
   "execution_count": 4,
   "metadata": {},
   "outputs": [
    {
     "data": {
      "text/plain": [
       "tensor([[ 3,  5],\n",
       "        [10,  5]])"
      ]
     },
     "execution_count": 4,
     "metadata": {},
     "output_type": "execute_result"
    }
   ],
   "source": [
    "data = [[3, 5],[10, 5]]\n",
    "x_data = torch.tensor(data)\n",
    "x_data"
   ]
  },
  {
   "cell_type": "code",
   "execution_count": 5,
   "metadata": {},
   "outputs": [
    {
     "data": {
      "text/plain": [
       "tensor([[ 3,  5],\n",
       "        [10,  5]], dtype=torch.int32)"
      ]
     },
     "execution_count": 5,
     "metadata": {},
     "output_type": "execute_result"
    }
   ],
   "source": [
    "nd_array_ex = np.array(data)\n",
    "tensor_array = torch.from_numpy(nd_array_ex)\n",
    "tensor_array"
   ]
  },
  {
   "cell_type": "code",
   "execution_count": 6,
   "metadata": {},
   "outputs": [
    {
     "name": "stdout",
     "output_type": "stream",
     "text": [
      "x_data[1:] : tensor([[10,  5, 50],\n",
      "        [ 1,  5, 10]])\n",
      "x_data[:2, 1:] : tensor([[ 5, 20],\n",
      "        [ 5, 50]])\n",
      "x_data.flatten : <built-in method flatten of Tensor object at 0x0000012146496130>\n",
      "torch.ones_like : tensor([[1, 1, 1],\n",
      "        [1, 1, 1],\n",
      "        [1, 1, 1]])\n",
      "x_data.numpy() : [[ 3  5 20]\n",
      " [10  5 50]\n",
      " [ 1  5 10]]\n",
      "x_data.shape : torch.Size([3, 3])\n",
      "x_data.dtype : torch.int64\n"
     ]
    }
   ],
   "source": [
    "data = [[3,5,20], [10,5,50], [1,5,10]]\n",
    "x_data = torch.tensor(data)\n",
    "\n",
    "print(f\"x_data[1:] : {x_data[1:]}\")\n",
    "print(f\"x_data[:2, 1:] : {x_data[:2, 1:]}\")\n",
    "print(f\"x_data.flatten : {x_data.flatten}\")\n",
    "print(f\"torch.ones_like : {torch.ones_like(x_data)}\")\n",
    "print(f\"x_data.numpy() : {x_data.numpy()}\")\n",
    "print(f\"x_data.shape : {x_data.shape}\")\n",
    "print(f\"x_data.dtype : {x_data.dtype}\")"
   ]
  },
  {
   "cell_type": "code",
   "execution_count": 7,
   "metadata": {},
   "outputs": [
    {
     "data": {
      "text/plain": [
       "device(type='cpu')"
      ]
     },
     "execution_count": 7,
     "metadata": {},
     "output_type": "execute_result"
    }
   ],
   "source": [
    "x_data.device"
   ]
  },
  {
   "cell_type": "code",
   "execution_count": null,
   "metadata": {},
   "outputs": [],
   "source": []
  },
  {
   "cell_type": "code",
   "execution_count": 10,
   "metadata": {},
   "outputs": [],
   "source": [
    "if torch.cuda.is_available():\n",
    "    x_data_cuda = x_data.to('cuda')\n",
    "    print(x_data_cuda.device)"
   ]
  }
 ],
 "metadata": {
  "kernelspec": {
   "display_name": "Python 3 (ipykernel)",
   "language": "python",
   "name": "python3"
  },
  "language_info": {
   "codemirror_mode": {
    "name": "ipython",
    "version": 3
   },
   "file_extension": ".py",
   "mimetype": "text/x-python",
   "name": "python",
   "nbconvert_exporter": "python",
   "pygments_lexer": "ipython3",
   "version": "3.9.5"
  },
  "vscode": {
   "interpreter": {
    "hash": "cf92aa13fedf815d5c8dd192b8d835913fde3e8bc926b2a0ad6cc74ef2ba3ca2"
   }
  }
 },
 "nbformat": 4,
 "nbformat_minor": 2
}
