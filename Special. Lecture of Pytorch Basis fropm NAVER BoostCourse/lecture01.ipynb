{
 "cells": [
  {
   "cell_type": "markdown",
   "metadata": {},
   "source": [
    "#Lecture 01\n",
    "\n",
    "### 현재의 DeepLearning Framework?\n",
    "PyTorch와 Tensorflow 단 2개!  \n",
    "\n",
    "### 프레임워크란?\n",
    "딥러닝 뿐만 아니라 다양한 웹, 앱, 네트워크 등 많은 프로그래밍 분야가 존재함.  \n",
    "프로그램을 다룸에 있어서, 공통적으로 사용되는 기능들을 표준화된 소스코드로 만들어 놓고 사용할 수 있도록 제공하는 것을 프레임 워크라고 한다!  \n",
    "딥러닝에도 기초함수부터 복잡한 신경망등이 구현되어 있는 여러가지 프레임워크가 있고 **PyTorch**도 그 중 하나이다.  \n",
    "\n",
    "### Computional Graph\n",
    "연산의 과정을 그래프로 표현한 것.\n",
    "- Tensorflow : Define and Run (그래프를 먼저 정의 -> 실행시점에 데이터 feed하는 방식)  \n",
    "    - 실행할 계산에 관련된 그래프를 미리 다 정의하여 올려놓고\n",
    "    - 그래프에 투입될 데이터들을 집어넣어 연산을 수행하는 방식\n",
    "    - 한번 실행이 된 상태에서 에러가 나면 찾기 어려움\n",
    "- PyTorch : Define by Run (실행을 하면서 그래프를 생성하는 방식)\n",
    "    - 연산이 이루어지는 시점에서 동적으로 그래프를 만들어 연산을 수행\n",
    "    - 조금 더 낮은 단위의 연산들로 구성할 수 있게 되고\n",
    "    - 디버깅 및 구조 설계의 세분화가 가능해진다.\n",
    "\n"
   ]
  },
  {
   "cell_type": "markdown",
   "metadata": {},
   "source": []
  }
 ],
 "metadata": {
  "kernelspec": {
   "display_name": "Python 3.9.5 64-bit",
   "language": "python",
   "name": "python3"
  },
  "language_info": {
   "name": "python",
   "version": "3.9.5"
  },
  "orig_nbformat": 4,
  "vscode": {
   "interpreter": {
    "hash": "cf92aa13fedf815d5c8dd192b8d835913fde3e8bc926b2a0ad6cc74ef2ba3ca2"
   }
  }
 },
 "nbformat": 4,
 "nbformat_minor": 2
}
