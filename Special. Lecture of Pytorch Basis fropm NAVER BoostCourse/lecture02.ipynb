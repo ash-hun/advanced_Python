{
  "cells": [
    {
      "cell_type": "markdown",
      "metadata": {
        "id": "9bFCAefP5ZMf"
      },
      "source": [
        "# PyTorch Basic\n",
        "\n",
        "numpy + AutoGrad(자동미분)"
      ]
    },
    {
      "cell_type": "code",
      "execution_count": 1,
      "metadata": {
        "id": "L1UtYKSP5ZMg"
      },
      "outputs": [],
      "source": [
        "import numpy as np\n",
        "import torch"
      ]
    },
    {
      "cell_type": "code",
      "execution_count": 2,
      "metadata": {
        "id": "lsfGXxPW5ZMg",
        "colab": {
          "base_uri": "https://localhost:8080/"
        },
        "outputId": "2e833c52-3d94-4527-a190-2e574d78c1f9"
      },
      "outputs": [
        {
          "output_type": "stream",
          "name": "stdout",
          "text": [
            "[[0 1]\n",
            " [2 3]\n",
            " [4 5]\n",
            " [6 7]\n",
            " [8 9]]\n",
            "ndim : 2, shape : (5, 2)\n",
            "[[0 1 2 3 4]\n",
            " [5 6 7 8 9]]\n",
            "ndim : 2, shape : (2, 5)\n"
          ]
        }
      ],
      "source": [
        "# numpy - ndarray\n",
        "n_array = np.arange(10).reshape(5,2)\n",
        "print(n_array)\n",
        "print(f\"ndim : {n_array.ndim}, shape : {n_array.shape}\")\n",
        "n_array = np.arange(10).reshape(2,5)\n",
        "print(n_array)\n",
        "print(f\"ndim : {n_array.ndim}, shape : {n_array.shape}\")"
      ]
    },
    {
      "cell_type": "code",
      "execution_count": 3,
      "metadata": {
        "id": "laj45TrH5ZMh",
        "colab": {
          "base_uri": "https://localhost:8080/"
        },
        "outputId": "3b3f5732-fedd-4be8-bbcf-52ade069e68b"
      },
      "outputs": [
        {
          "output_type": "stream",
          "name": "stdout",
          "text": [
            "tensor([[0., 1., 2., 3., 4.],\n",
            "        [5., 6., 7., 8., 9.]])\n",
            "ndim : 2, shape : torch.Size([2, 5])\n"
          ]
        }
      ],
      "source": [
        "t_array = torch.FloatTensor(n_array)\n",
        "print(t_array)\n",
        "print(f\"ndim : {t_array.ndim}, shape : {t_array.shape}\")"
      ]
    },
    {
      "cell_type": "code",
      "execution_count": 4,
      "metadata": {
        "id": "3o627RS35ZMh",
        "colab": {
          "base_uri": "https://localhost:8080/"
        },
        "outputId": "d2ec30d6-38af-4138-a40b-e9f1a712271d"
      },
      "outputs": [
        {
          "output_type": "execute_result",
          "data": {
            "text/plain": [
              "tensor([[ 3,  5],\n",
              "        [10,  5]])"
            ]
          },
          "metadata": {},
          "execution_count": 4
        }
      ],
      "source": [
        "data = [[3, 5],[10, 5]]\n",
        "x_data = torch.tensor(data)\n",
        "x_data"
      ]
    },
    {
      "cell_type": "code",
      "execution_count": 5,
      "metadata": {
        "id": "poSEjhwI5ZMi",
        "colab": {
          "base_uri": "https://localhost:8080/"
        },
        "outputId": "6ee3351a-6fe0-4ea4-bbcc-728844d49550"
      },
      "outputs": [
        {
          "output_type": "execute_result",
          "data": {
            "text/plain": [
              "tensor([[ 3,  5],\n",
              "        [10,  5]])"
            ]
          },
          "metadata": {},
          "execution_count": 5
        }
      ],
      "source": [
        "nd_array_ex = np.array(data)\n",
        "tensor_array = torch.from_numpy(nd_array_ex)\n",
        "tensor_array"
      ]
    },
    {
      "cell_type": "code",
      "execution_count": 6,
      "metadata": {
        "id": "IzMxMRB75ZMi",
        "colab": {
          "base_uri": "https://localhost:8080/"
        },
        "outputId": "6541f0d0-5c5c-43f8-de71-8cc64e9b75d9"
      },
      "outputs": [
        {
          "output_type": "stream",
          "name": "stdout",
          "text": [
            "x_data[1:] : tensor([[10,  5, 50],\n",
            "        [ 1,  5, 10]])\n",
            "x_data[:2, 1:] : tensor([[ 5, 20],\n",
            "        [ 5, 50]])\n",
            "x_data.flatten : <built-in method flatten of Tensor object at 0x7fa442542310>\n",
            "torch.ones_like : tensor([[1, 1, 1],\n",
            "        [1, 1, 1],\n",
            "        [1, 1, 1]])\n",
            "x_data.numpy() : [[ 3  5 20]\n",
            " [10  5 50]\n",
            " [ 1  5 10]]\n",
            "x_data.shape : torch.Size([3, 3])\n",
            "x_data.dtype : torch.int64\n"
          ]
        }
      ],
      "source": [
        "data = [[3,5,20], [10,5,50], [1,5,10]]\n",
        "x_data = torch.tensor(data)\n",
        "\n",
        "print(f\"x_data[1:] : {x_data[1:]}\")\n",
        "print(f\"x_data[:2, 1:] : {x_data[:2, 1:]}\")\n",
        "print(f\"x_data.flatten : {x_data.flatten}\")\n",
        "print(f\"torch.ones_like : {torch.ones_like(x_data)}\")\n",
        "print(f\"x_data.numpy() : {x_data.numpy()}\")\n",
        "print(f\"x_data.shape : {x_data.shape}\")\n",
        "print(f\"x_data.dtype : {x_data.dtype}\")"
      ]
    },
    {
      "cell_type": "code",
      "execution_count": 7,
      "metadata": {
        "id": "SP7qd7xZ5ZMi",
        "colab": {
          "base_uri": "https://localhost:8080/"
        },
        "outputId": "e191bfa9-50fe-465b-e91f-d454863283b4"
      },
      "outputs": [
        {
          "output_type": "execute_result",
          "data": {
            "text/plain": [
              "device(type='cpu')"
            ]
          },
          "metadata": {},
          "execution_count": 7
        }
      ],
      "source": [
        "x_data.device"
      ]
    },
    {
      "cell_type": "code",
      "execution_count": 8,
      "metadata": {
        "id": "A76n_RdK5ZMi",
        "colab": {
          "base_uri": "https://localhost:8080/"
        },
        "outputId": "bfc63128-2757-4a6f-ef65-aba456e6ffad"
      },
      "outputs": [
        {
          "output_type": "stream",
          "name": "stdout",
          "text": [
            "cuda:0\n"
          ]
        }
      ],
      "source": [
        "if torch.cuda.is_available():\n",
        "    x_data_cuda = x_data.to('cuda')\n",
        "    print(x_data_cuda.device)"
      ]
    },
    {
      "cell_type": "code",
      "execution_count": 9,
      "metadata": {
        "id": "iyala-oj5ZMi",
        "colab": {
          "base_uri": "https://localhost:8080/"
        },
        "outputId": "b2d4df99-77b4-494a-f71d-652a0c260a0c"
      },
      "outputs": [
        {
          "output_type": "execute_result",
          "data": {
            "text/plain": [
              "tensor([[[0.9134, 0.9175],\n",
              "         [0.0980, 0.9036],\n",
              "         [0.7378, 0.0250]],\n",
              "\n",
              "        [[0.8870, 0.2826],\n",
              "         [0.7000, 0.9605],\n",
              "         [0.7792, 0.1040]]])"
            ]
          },
          "metadata": {},
          "execution_count": 9
        }
      ],
      "source": [
        "# View : reshape과 동일하게 tensor의 shape을 변환\n",
        "# squeeze : 차원의 개수가 1인 차원을 삭체(압축)\n",
        "# unsqueeze : 차원의 개수가 1인 차원을 추가\n",
        "\n",
        "tensor_ex  = torch.rand(size=(2,3,2))\n",
        "tensor_ex"
      ]
    },
    {
      "cell_type": "code",
      "source": [
        "tensor_ex.view([-1, 6])"
      ],
      "metadata": {
        "colab": {
          "base_uri": "https://localhost:8080/"
        },
        "id": "CXZ774KM52z8",
        "outputId": "15394dcb-6f38-49b2-a0d0-f07842e3afc3"
      },
      "execution_count": 10,
      "outputs": [
        {
          "output_type": "execute_result",
          "data": {
            "text/plain": [
              "tensor([[0.9134, 0.9175, 0.0980, 0.9036, 0.7378, 0.0250],\n",
              "        [0.8870, 0.2826, 0.7000, 0.9605, 0.7792, 0.1040]])"
            ]
          },
          "metadata": {},
          "execution_count": 10
        }
      ]
    },
    {
      "cell_type": "code",
      "source": [
        "tensor_ex.reshape([-1, 6])"
      ],
      "metadata": {
        "colab": {
          "base_uri": "https://localhost:8080/"
        },
        "id": "vkkirrsD55ko",
        "outputId": "ff33ac52-42b8-4940-a44b-10070022dd23"
      },
      "execution_count": 11,
      "outputs": [
        {
          "output_type": "execute_result",
          "data": {
            "text/plain": [
              "tensor([[0.9134, 0.9175, 0.0980, 0.9036, 0.7378, 0.0250],\n",
              "        [0.8870, 0.2826, 0.7000, 0.9605, 0.7792, 0.1040]])"
            ]
          },
          "metadata": {},
          "execution_count": 11
        }
      ]
    },
    {
      "cell_type": "code",
      "source": [
        "a = torch.zeros(3,2)\n",
        "b = a.view(2,3)\n",
        "a.fill_(1)"
      ],
      "metadata": {
        "colab": {
          "base_uri": "https://localhost:8080/"
        },
        "id": "B_B6Kg9q5970",
        "outputId": "55a4d4fd-b4e6-4575-8fc8-f5edf1cb8d62"
      },
      "execution_count": 12,
      "outputs": [
        {
          "output_type": "execute_result",
          "data": {
            "text/plain": [
              "tensor([[1., 1.],\n",
              "        [1., 1.],\n",
              "        [1., 1.]])"
            ]
          },
          "metadata": {},
          "execution_count": 12
        }
      ]
    },
    {
      "cell_type": "code",
      "source": [
        "a"
      ],
      "metadata": {
        "colab": {
          "base_uri": "https://localhost:8080/"
        },
        "id": "swNiC6Pq6MBI",
        "outputId": "d16416bc-6536-42e1-b0c2-b9b840017851"
      },
      "execution_count": 13,
      "outputs": [
        {
          "output_type": "execute_result",
          "data": {
            "text/plain": [
              "tensor([[1., 1.],\n",
              "        [1., 1.],\n",
              "        [1., 1.]])"
            ]
          },
          "metadata": {},
          "execution_count": 13
        }
      ]
    },
    {
      "cell_type": "code",
      "source": [
        "b"
      ],
      "metadata": {
        "colab": {
          "base_uri": "https://localhost:8080/"
        },
        "id": "b0eePcgA6NdC",
        "outputId": "90d83715-8f56-4db1-d770-66523fbc5b82"
      },
      "execution_count": 14,
      "outputs": [
        {
          "output_type": "execute_result",
          "data": {
            "text/plain": [
              "tensor([[1., 1., 1.],\n",
              "        [1., 1., 1.]])"
            ]
          },
          "metadata": {},
          "execution_count": 14
        }
      ]
    },
    {
      "cell_type": "code",
      "source": [
        "a = torch.zeros(3,2)\n",
        "b = a.t().reshape(6)\n",
        "a.fill_(1)"
      ],
      "metadata": {
        "colab": {
          "base_uri": "https://localhost:8080/"
        },
        "id": "yk-zFEas6NqT",
        "outputId": "d0258b7b-ef38-4532-a940-d2f67796b346"
      },
      "execution_count": 15,
      "outputs": [
        {
          "output_type": "execute_result",
          "data": {
            "text/plain": [
              "tensor([[1., 1.],\n",
              "        [1., 1.],\n",
              "        [1., 1.]])"
            ]
          },
          "metadata": {},
          "execution_count": 15
        }
      ]
    },
    {
      "cell_type": "code",
      "source": [
        "a"
      ],
      "metadata": {
        "colab": {
          "base_uri": "https://localhost:8080/"
        },
        "id": "na0wx7536VRY",
        "outputId": "139c49e8-7124-4908-c5e6-a590b823915f"
      },
      "execution_count": 16,
      "outputs": [
        {
          "output_type": "execute_result",
          "data": {
            "text/plain": [
              "tensor([[1., 1.],\n",
              "        [1., 1.],\n",
              "        [1., 1.]])"
            ]
          },
          "metadata": {},
          "execution_count": 16
        }
      ]
    },
    {
      "cell_type": "code",
      "source": [
        "b"
      ],
      "metadata": {
        "colab": {
          "base_uri": "https://localhost:8080/"
        },
        "id": "Ija9h42v6Y-f",
        "outputId": "f3132eea-12dc-4245-a6b5-c7a0485d3f9b"
      },
      "execution_count": 17,
      "outputs": [
        {
          "output_type": "execute_result",
          "data": {
            "text/plain": [
              "tensor([0., 0., 0., 0., 0., 0.])"
            ]
          },
          "metadata": {},
          "execution_count": 17
        }
      ]
    },
    {
      "cell_type": "code",
      "source": [
        "tensor_ex = torch.rand(size=(2,1,2))\n",
        "tensor_ex.squeeze()"
      ],
      "metadata": {
        "colab": {
          "base_uri": "https://localhost:8080/"
        },
        "id": "aOhLFZeL6ZUC",
        "outputId": "7f264c37-03f5-4685-9a92-ad71b7ebd7b2"
      },
      "execution_count": 25,
      "outputs": [
        {
          "output_type": "execute_result",
          "data": {
            "text/plain": [
              "tensor([[0.8416, 0.0361],\n",
              "        [0.9456, 0.9947]])"
            ]
          },
          "metadata": {},
          "execution_count": 25
        }
      ]
    },
    {
      "cell_type": "code",
      "source": [
        "tensor_ex = torch.rand(size=(2,2))\n",
        "print(tensor_ex.unsqueeze(0).shape)\n",
        "print(tensor_ex.unsqueeze(0))"
      ],
      "metadata": {
        "colab": {
          "base_uri": "https://localhost:8080/"
        },
        "id": "qv6n35NY6o-R",
        "outputId": "38896a62-b7dc-4b78-e567-07be4f2fdad9"
      },
      "execution_count": 28,
      "outputs": [
        {
          "output_type": "stream",
          "name": "stdout",
          "text": [
            "torch.Size([1, 2, 2])\n",
            "tensor([[[0.7260, 0.9364],\n",
            "         [0.3003, 0.6304]]])\n"
          ]
        }
      ]
    },
    {
      "cell_type": "code",
      "source": [
        "print(tensor_ex.unsqueeze(1).shape)\n",
        "print(tensor_ex.unsqueeze(1))"
      ],
      "metadata": {
        "colab": {
          "base_uri": "https://localhost:8080/"
        },
        "id": "4If62Vq27Fl7",
        "outputId": "cd85f514-d5d3-4ebf-bb7e-4da321a4dd40"
      },
      "execution_count": 29,
      "outputs": [
        {
          "output_type": "stream",
          "name": "stdout",
          "text": [
            "torch.Size([2, 1, 2])\n",
            "tensor([[[0.7260, 0.9364]],\n",
            "\n",
            "        [[0.3003, 0.6304]]])\n"
          ]
        }
      ]
    },
    {
      "cell_type": "code",
      "source": [
        "print(tensor_ex.unsqueeze(2).shape)\n",
        "print(tensor_ex.unsqueeze(2))"
      ],
      "metadata": {
        "colab": {
          "base_uri": "https://localhost:8080/"
        },
        "id": "-HF2Qxa87Jkn",
        "outputId": "6496078b-2502-4c74-9b07-7fcbd0f1667d"
      },
      "execution_count": 30,
      "outputs": [
        {
          "output_type": "stream",
          "name": "stdout",
          "text": [
            "torch.Size([2, 2, 1])\n",
            "tensor([[[0.7260],\n",
            "         [0.9364]],\n",
            "\n",
            "        [[0.3003],\n",
            "         [0.6304]]])\n"
          ]
        }
      ]
    },
    {
      "cell_type": "code",
      "source": [
        "n1 = np.arange(10).reshape(2,5)\n",
        "t1 = torch.FloatTensor(n1)"
      ],
      "metadata": {
        "id": "eCrvS1v57Ka8"
      },
      "execution_count": 31,
      "outputs": []
    },
    {
      "cell_type": "code",
      "source": [
        "n2 = np.arange(10).reshape(5,2)\n",
        "t2 = torch.FloatTensor(n2)\n",
        "\n",
        "t1.mm(t2)#내적, dot product"
      ],
      "metadata": {
        "colab": {
          "base_uri": "https://localhost:8080/"
        },
        "id": "xkas3vqk7uI-",
        "outputId": "af7a3e2d-5674-4d64-9d95-b5ec57046606"
      },
      "execution_count": 32,
      "outputs": [
        {
          "output_type": "execute_result",
          "data": {
            "text/plain": [
              "tensor([[ 60.,  70.],\n",
              "        [160., 195.]])"
            ]
          },
          "metadata": {},
          "execution_count": 32
        }
      ]
    },
    {
      "cell_type": "code",
      "source": [
        "t1.dot(t2)"
      ],
      "metadata": {
        "colab": {
          "base_uri": "https://localhost:8080/",
          "height": 174
        },
        "id": "-Jjja35u7891",
        "outputId": "26982d46-4881-4cfb-be5a-033e5e1dfaf4"
      },
      "execution_count": 33,
      "outputs": [
        {
          "output_type": "error",
          "ename": "RuntimeError",
          "evalue": "ignored",
          "traceback": [
            "\u001b[0;31m---------------------------------------------------------------------------\u001b[0m",
            "\u001b[0;31mRuntimeError\u001b[0m                              Traceback (most recent call last)",
            "\u001b[0;32m<ipython-input-33-e9d95797f0ac>\u001b[0m in \u001b[0;36m<module>\u001b[0;34m\u001b[0m\n\u001b[0;32m----> 1\u001b[0;31m \u001b[0mt1\u001b[0m\u001b[0;34m.\u001b[0m\u001b[0mdot\u001b[0m\u001b[0;34m(\u001b[0m\u001b[0mt2\u001b[0m\u001b[0;34m)\u001b[0m\u001b[0;34m\u001b[0m\u001b[0;34m\u001b[0m\u001b[0m\n\u001b[0m",
            "\u001b[0;31mRuntimeError\u001b[0m: 1D tensors expected, but got 2D and 2D tensors"
          ]
        }
      ]
    },
    {
      "cell_type": "code",
      "source": [
        "t1.matmul(t2)"
      ],
      "metadata": {
        "colab": {
          "base_uri": "https://localhost:8080/"
        },
        "id": "c0OkJC9T7-yi",
        "outputId": "2aa357c5-31a4-4ded-fd13-39e80b6efef5"
      },
      "execution_count": 34,
      "outputs": [
        {
          "output_type": "execute_result",
          "data": {
            "text/plain": [
              "tensor([[ 60.,  70.],\n",
              "        [160., 195.]])"
            ]
          },
          "metadata": {},
          "execution_count": 34
        }
      ]
    },
    {
      "cell_type": "code",
      "source": [
        "import torch.nn.functional as F\n",
        "\n",
        "tensor = torch.FloatTensor([0.5, 0.7, 0.1])\n",
        "h_tensor = F.softmax(tensor, dim=0)\n",
        "h_tensor"
      ],
      "metadata": {
        "colab": {
          "base_uri": "https://localhost:8080/"
        },
        "id": "guNjWiPD8CLG",
        "outputId": "611fb0a5-2dfc-4ed4-efb9-e5af85268a64"
      },
      "execution_count": 35,
      "outputs": [
        {
          "output_type": "execute_result",
          "data": {
            "text/plain": [
              "tensor([0.3458, 0.4224, 0.2318])"
            ]
          },
          "metadata": {},
          "execution_count": 35
        }
      ]
    },
    {
      "cell_type": "code",
      "source": [
        "y = torch.randint(5, (10,5))\n",
        "y_label = y.argmax(dim=1)\n",
        "y_label"
      ],
      "metadata": {
        "colab": {
          "base_uri": "https://localhost:8080/"
        },
        "id": "Df6V5_qw9L7j",
        "outputId": "8643f5a6-ce74-47f6-c6a6-84a9fdad809c"
      },
      "execution_count": 36,
      "outputs": [
        {
          "output_type": "execute_result",
          "data": {
            "text/plain": [
              "tensor([2, 0, 3, 2, 2, 2, 2, 0, 0, 0])"
            ]
          },
          "metadata": {},
          "execution_count": 36
        }
      ]
    },
    {
      "cell_type": "code",
      "source": [
        "F.one_hot(y_label)"
      ],
      "metadata": {
        "colab": {
          "base_uri": "https://localhost:8080/"
        },
        "id": "fCPUy8zv9Q2n",
        "outputId": "23378760-2fcb-4755-e1fd-8c38694de092"
      },
      "execution_count": 38,
      "outputs": [
        {
          "output_type": "execute_result",
          "data": {
            "text/plain": [
              "tensor([[0, 0, 1, 0],\n",
              "        [1, 0, 0, 0],\n",
              "        [0, 0, 0, 1],\n",
              "        [0, 0, 1, 0],\n",
              "        [0, 0, 1, 0],\n",
              "        [0, 0, 1, 0],\n",
              "        [0, 0, 1, 0],\n",
              "        [1, 0, 0, 0],\n",
              "        [1, 0, 0, 0],\n",
              "        [1, 0, 0, 0]])"
            ]
          },
          "metadata": {},
          "execution_count": 38
        }
      ]
    },
    {
      "cell_type": "code",
      "source": [
        "# PyTorch의 핵심은 자동 미분\n",
        "w = torch.tensor(2.0, requires_grad=True)\n",
        "y = w**2 # y = w^2\n",
        "z = 10*y + 24 # z = 10*y + 25\n",
        "z.backward() # z' = 20w (미분)\n",
        "w.grad # w = tensor(2.) * 20 = tensor(40.)"
      ],
      "metadata": {
        "colab": {
          "base_uri": "https://localhost:8080/"
        },
        "id": "K5Lc43wU9U68",
        "outputId": "04ad09bb-a759-4dfc-a22d-10b3bc968c62"
      },
      "execution_count": 39,
      "outputs": [
        {
          "output_type": "execute_result",
          "data": {
            "text/plain": [
              "tensor(40.)"
            ]
          },
          "metadata": {},
          "execution_count": 39
        }
      ]
    },
    {
      "cell_type": "code",
      "source": [
        "# 벡터 편미분\n",
        "\n",
        "a = torch.tensor([2., 3.], requires_grad=True)\n",
        "b = torch.tensor([6., 4.], requires_grad=True)\n",
        "\n",
        "Q = 3*a**3 - b**2\n",
        "external_grad = torch.tensor([1., 1.])\n",
        "Q.backward(gradient=external_grad)\n",
        "\n",
        "# Q'/a' = 9 * a**2\n",
        "a.grad"
      ],
      "metadata": {
        "colab": {
          "base_uri": "https://localhost:8080/"
        },
        "id": "q95zyeMr9iMt",
        "outputId": "414824ab-db40-4de9-c416-d437b9cc7f98"
      },
      "execution_count": 40,
      "outputs": [
        {
          "output_type": "execute_result",
          "data": {
            "text/plain": [
              "tensor([36., 81.])"
            ]
          },
          "metadata": {},
          "execution_count": 40
        }
      ]
    },
    {
      "cell_type": "code",
      "source": [
        "# Q'/b' = -2b\n",
        "b.grad"
      ],
      "metadata": {
        "colab": {
          "base_uri": "https://localhost:8080/"
        },
        "id": "GgvHPhd1-_T2",
        "outputId": "aa9ff232-3c49-4ea6-cf26-92083290dbc5"
      },
      "execution_count": 41,
      "outputs": [
        {
          "output_type": "execute_result",
          "data": {
            "text/plain": [
              "tensor([-12.,  -8.])"
            ]
          },
          "metadata": {},
          "execution_count": 41
        }
      ]
    },
    {
      "cell_type": "code",
      "source": [],
      "metadata": {
        "id": "0Yv2WDyX_BkE"
      },
      "execution_count": null,
      "outputs": []
    }
  ],
  "metadata": {
    "kernelspec": {
      "display_name": "Python 3 (ipykernel)",
      "language": "python",
      "name": "python3"
    },
    "language_info": {
      "codemirror_mode": {
        "name": "ipython",
        "version": 3
      },
      "file_extension": ".py",
      "mimetype": "text/x-python",
      "name": "python",
      "nbconvert_exporter": "python",
      "pygments_lexer": "ipython3",
      "version": "3.9.5"
    },
    "vscode": {
      "interpreter": {
        "hash": "cf92aa13fedf815d5c8dd192b8d835913fde3e8bc926b2a0ad6cc74ef2ba3ca2"
      }
    },
    "colab": {
      "provenance": []
    },
    "accelerator": "GPU",
    "gpuClass": "standard"
  },
  "nbformat": 4,
  "nbformat_minor": 0
}