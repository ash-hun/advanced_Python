{
 "cells": [
  {
   "cell_type": "markdown",
   "metadata": {},
   "source": [
    "# Corpus Preprocessing : REGEX\n",
    "\n",
    "- Example of 'Regex'"
   ]
  },
  {
   "cell_type": "code",
   "execution_count": 4,
   "metadata": {},
   "outputs": [
    {
     "data": {
      "text/plain": [
       "'REMOVED'"
      ]
     },
     "execution_count": 4,
     "metadata": {},
     "output_type": "execute_result"
    }
   ],
   "source": [
    "# 파이썬에서 정규표현식 사용\n",
    "\n",
    "import re\n",
    "# text = \"\"\"Hello Ki, I would like to introduce regular expression in this section\n",
    "# ~~\n",
    "# Thank you!\n",
    "# Sincerely,\n",
    "# Ki: +82-10-1234-5678\n",
    "# \"\"\"\n",
    "\n",
    "regex = r\"([\\w]+\\s*:?\\s*)?\\(?\\+?([0-9]{1,3})?\\-?[0-9]{2,3}(\\)|\\-)?[0-9]{3,4}\\-?[0-9]{4}\"\n",
    "# 위 regex 표현은 아래 규칙을 가지고 작성한 것이다.\n",
    "# - 이름이 전화번호 앞에 나올 수도 있다.\n",
    "# - 이름 뒤에는 콜론이 나올 수도 있다.\n",
    "# - 콜론 앞/뒤로는 (탭을 포함한) 공백이 다수 존재할 수도 있다.\n",
    "# - 전화번호는 국가번호를 포함할 수도 있다.\n",
    "# - 국가번호는 최대 3자리이다.\n",
    "# - 국가번호의 앞에는 '+'가 붙을 수도 있다.\n",
    "# - 전화번호 사이에 '-'가 들어갈 수도 있다.\n",
    "# - 전화번호는 빈칸 없이 표현된다.\n",
    "# - 전화번호 맨 앞과 지역번호(또는 010)의 다음에는 괄호가 들어갈 수도 있다.\n",
    "# - 괄호는 한쪽만 나올 수도 있다.\n",
    "# - 지역번호 자리의 맨 처음에 나오는 0은 빠질 수도 있다. 즉, 2자리가 될 수도 있따.\n",
    "# - 지역번호 다음 번호 그룹은 3에서 4자리 숫자이다.\n",
    "# - 마지막은 항상 4자리 숫자이다.\n",
    "\n",
    "x = \"Ki: +82-10-1234-5678\"\n",
    "re.sub(regex, \"REMOVED\", x)"
   ]
  },
  {
   "cell_type": "code",
   "execution_count": 3,
   "metadata": {},
   "outputs": [
    {
     "data": {
      "text/plain": [
       "'CONTENT REMOVED'"
      ]
     },
     "execution_count": 3,
     "metadata": {},
     "output_type": "execute_result"
    }
   ],
   "source": [
    "x = \"CONTENT jiu 02)1234-5678\"\n",
    "re.sub(regex, \"REMOVED\", x)"
   ]
  },
  {
   "cell_type": "code",
   "execution_count": 7,
   "metadata": {},
   "outputs": [
    {
     "data": {
      "text/plain": [
       "'abcdefg 12345 ab12 abcd 12ab ab 1a2 a1 1a hijklmnop'"
      ]
     },
     "execution_count": 7,
     "metadata": {},
     "output_type": "execute_result"
    }
   ],
   "source": [
    "# 치환자 사용\n",
    "\n",
    "x = \"\"\"abcdefg\n",
    "12345\n",
    "ab12\n",
    "a1bc2d\n",
    "12ab\n",
    "a1b\n",
    "1a2\n",
    "a1\n",
    "1a\n",
    "hijklmnop\"\"\"\n",
    "\n",
    "regex = r'([a-z])[0-9]+([a-z])'\n",
    "to = r'\\1\\2'#그룹을 변수명처럼 활용\n",
    "\n",
    "y = ' '.join([re.sub(regex, to, x_i) for x_i in x.split('\\n')])\n",
    "y"
   ]
  }
 ],
 "metadata": {
  "kernelspec": {
   "display_name": "Python 3.10.6 64-bit",
   "language": "python",
   "name": "python3"
  },
  "language_info": {
   "codemirror_mode": {
    "name": "ipython",
    "version": 3
   },
   "file_extension": ".py",
   "mimetype": "text/x-python",
   "name": "python",
   "nbconvert_exporter": "python",
   "pygments_lexer": "ipython3",
   "version": "3.10.6"
  },
  "orig_nbformat": 4,
  "vscode": {
   "interpreter": {
    "hash": "afb734500600fd355917ca529030176ea0ca205570884b88f2f6f7d791fd3fbe"
   }
  }
 },
 "nbformat": 4,
 "nbformat_minor": 2
}
