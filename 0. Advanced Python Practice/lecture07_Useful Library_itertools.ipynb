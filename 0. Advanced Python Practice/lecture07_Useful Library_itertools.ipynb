{
 "cells": [
  {
   "cell_type": "markdown",
   "metadata": {},
   "source": [
    "# Lecture 07\n",
    "\n",
    "### Title : itertools library"
   ]
  },
  {
   "cell_type": "markdown",
   "metadata": {},
   "source": [
    "---\n",
    "\n",
    "### 👉 **Itertools**\n",
    "\n",
    "- count()\n",
    "- cycle()\n",
    "- repeat()\n",
    "- compress()\n",
    "- accumulate()\n",
    "- filterfalse()\n",
    "- product()\n",
    "- permutations()\n",
    "- combinations()\n",
    "- combinations_with_replacement()"
   ]
  },
  {
   "cell_type": "code",
   "execution_count": 1,
   "metadata": {},
   "outputs": [],
   "source": [
    "# module import\n",
    "import itertools as it"
   ]
  },
  {
   "cell_type": "code",
   "execution_count": 2,
   "metadata": {},
   "outputs": [],
   "source": [
    "# Count()\n",
    "# Count(start, [step])\n",
    "# return Infinity Iterator  \n",
    "start = 10\n",
    "step = 5\n",
    "it.count(start, step)_#10, 15, 20, 25, ..."
   ]
  },
  {
   "cell_type": "code",
   "execution_count": null,
   "metadata": {},
   "outputs": [],
   "source": [
    "#Cycle()\n",
    "#Cycle(p)\n",
    "# return Infinity Iterator\n",
    "target = 'ABCDE'\n",
    "it.cycle(target)_#A B C D E A B C D ..."
   ]
  },
  {
   "cell_type": "code",
   "execution_count": 9,
   "metadata": {},
   "outputs": [
    {
     "name": "stdout",
     "output_type": "stream",
     "text": [
      "10\n",
      "10\n",
      "10\n"
     ]
    }
   ],
   "source": [
    "#Repeat()\n",
    "#Repeat(element, [,n])\n",
    "# return Infinity Iterator\n",
    "elem = 10\n",
    "n = 3\n",
    "for i in it.repeat(elem, n):\n",
    "    print(i)"
   ]
  },
  {
   "cell_type": "code",
   "execution_count": 6,
   "metadata": {},
   "outputs": [
    {
     "data": {
      "text/plain": [
       "['B', 'D']"
      ]
     },
     "execution_count": 6,
     "metadata": {},
     "output_type": "execute_result"
    }
   ],
   "source": [
    "# Compress()\n",
    "# Compress(data, selectors)\n",
    "# return iterator\n",
    "# 특정 요소를 인덱스로 필터링\n",
    "data = 'ABCDEFG'\n",
    "list(it.compress(data, [0,1,0,1,0,0,0]))"
   ]
  },
  {
   "cell_type": "code",
   "execution_count": 13,
   "metadata": {},
   "outputs": [
    {
     "data": {
      "text/plain": [
       "[1, 3, 6, 10, 15]"
      ]
     },
     "execution_count": 13,
     "metadata": {},
     "output_type": "execute_result"
    }
   ],
   "source": [
    "# accumulate()\n",
    "# accumulate(p, [,func])\n",
    "# return iterator\n",
    "# 각 항목에 대한 누적값\n",
    "data = [1,2,3,4,5]\n",
    "list(it.accumulate(data))"
   ]
  },
  {
   "cell_type": "code",
   "execution_count": 15,
   "metadata": {},
   "outputs": [
    {
     "data": {
      "text/plain": [
       "[0, 2, 4, 6, 8]"
      ]
     },
     "execution_count": 15,
     "metadata": {},
     "output_type": "execute_result"
    }
   ],
   "source": [
    "# filterfalse()\n",
    "# filterfalse(pred, seq)\n",
    "# pred(elem)이 거짓인 seq의 요소들을 반환\n",
    "list(it.filterfalse(lambda x: x%2, range(10)))"
   ]
  },
  {
   "cell_type": "markdown",
   "metadata": {},
   "source": [
    "# **Product()**\n",
    "\n",
    "**Cartesian Product**라고 하며 데카르트 곱, 중복순열 등으로 불린다.\n",
    "\n",
    "$$ {}_n \\prod{}_r = n^{r}$$\n"
   ]
  },
  {
   "cell_type": "code",
   "execution_count": 30,
   "metadata": {},
   "outputs": [
    {
     "name": "stdout",
     "output_type": "stream",
     "text": [
      "[('A', 'A'), ('A', 'B'), ('A', 'C'), ('B', 'A'), ('B', 'B'), ('B', 'C'), ('C', 'A'), ('C', 'B'), ('C', 'C')]\n",
      "9\n",
      "====================================================================================================\n",
      "[('A', '1'), ('A', '2'), ('A', '3'), ('B', '1'), ('B', '2'), ('B', '3'), ('C', '1'), ('C', '2'), ('C', '3')]\n",
      "9\n"
     ]
    }
   ],
   "source": [
    "# Product()\n",
    "# Product(p,q,[repeat=1])\n",
    "# 데카르트 곱(cartesian product), 중첩된 for 루프와 동일함!\n",
    "target = 'ABC'\n",
    "t = list(it.product(target, repeat=2))\n",
    "print(t)\n",
    "print(len(t))\n",
    "print('='*100)\n",
    "Target = ['ABC', '123']\n",
    "T = list(it.product(*Target))\n",
    "print(T)\n",
    "print(len(T))"
   ]
  },
  {
   "cell_type": "markdown",
   "metadata": {},
   "source": [
    "# **Permutations()**\n",
    "\n",
    "**순열**은 순서를 생각하고 중복을 허락한지 않는 경우를 말한다.\n",
    "\n",
    "$$ {}_n P {}_r = \\frac{n!}{(n-r)!} $$"
   ]
  },
  {
   "cell_type": "code",
   "execution_count": 33,
   "metadata": {},
   "outputs": [
    {
     "name": "stdout",
     "output_type": "stream",
     "text": [
      "[('A', 'B'), ('A', 'C'), ('A', 'D'), ('B', 'A'), ('B', 'C'), ('B', 'D'), ('C', 'A'), ('C', 'B'), ('C', 'D'), ('D', 'A'), ('D', 'B'), ('D', 'C')]\n",
      "12\n"
     ]
    }
   ],
   "source": [
    "# Permutations()\n",
    "# permutations(p, [,r])\n",
    "# 순열\n",
    "data = \"ABCD\"\n",
    "t = list(it.permutations(data, 2))\n",
    "print(t)\n",
    "print(len(t))"
   ]
  },
  {
   "cell_type": "markdown",
   "metadata": {},
   "source": [
    "# **Combinations_with_replacement()**\n",
    "\n",
    "**중복조합**은 순서를 생각하지 않고 중복을 허락하는 경우 중복조합이라고 한다.\n",
    "\n",
    "$$ {}_n H {}_r = {}_{n+r-1} C {}_r$$\n"
   ]
  },
  {
   "cell_type": "code",
   "execution_count": 34,
   "metadata": {},
   "outputs": [
    {
     "name": "stdout",
     "output_type": "stream",
     "text": [
      "[('A', 'A'), ('A', 'B'), ('A', 'C'), ('A', 'D'), ('B', 'B'), ('B', 'C'), ('B', 'D'), ('C', 'C'), ('C', 'D'), ('D', 'D')]\n",
      "10\n"
     ]
    }
   ],
   "source": [
    "# combinations_with_replacement()\n",
    "# combinations_with_replacement(p, r)\n",
    "# 중복조합\n",
    "data = \"ABCD\"\n",
    "t = list(it.combinations_with_replacement(data, 2))\n",
    "print(t)\n",
    "print(len(t))"
   ]
  },
  {
   "cell_type": "markdown",
   "metadata": {},
   "source": [
    "# **Combinations**\n",
    "**조합**은 순서를 생각하지 않고 중복을 허락하지 않는 경우의 수를 말한다.\n",
    "\n",
    "$$ {}_n C {}_r = \\frac{n!}{r!(n-r)!}$$"
   ]
  },
  {
   "cell_type": "code",
   "execution_count": 35,
   "metadata": {},
   "outputs": [
    {
     "name": "stdout",
     "output_type": "stream",
     "text": [
      "[('A', 'B'), ('A', 'C'), ('A', 'D'), ('B', 'C'), ('B', 'D'), ('C', 'D')]\n",
      "6\n"
     ]
    }
   ],
   "source": [
    "# combinations()\n",
    "# combinations(p, r)\n",
    "# 조합\n",
    "data = 'ABCD'\n",
    "t = list(it.combinations(data, 2))\n",
    "print(t)\n",
    "print(len(t))"
   ]
  }
 ],
 "metadata": {
  "kernelspec": {
   "display_name": "Python 3.9.5 64-bit",
   "language": "python",
   "name": "python3"
  },
  "language_info": {
   "codemirror_mode": {
    "name": "ipython",
    "version": 3
   },
   "file_extension": ".py",
   "mimetype": "text/x-python",
   "name": "python",
   "nbconvert_exporter": "python",
   "pygments_lexer": "ipython3",
   "version": "3.9.5"
  },
  "orig_nbformat": 4,
  "vscode": {
   "interpreter": {
    "hash": "cf92aa13fedf815d5c8dd192b8d835913fde3e8bc926b2a0ad6cc74ef2ba3ca2"
   }
  }
 },
 "nbformat": 4,
 "nbformat_minor": 2
}
