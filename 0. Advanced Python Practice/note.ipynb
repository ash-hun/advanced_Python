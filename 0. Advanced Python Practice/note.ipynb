{
 "cells": [
  {
   "cell_type": "code",
   "execution_count": 15,
   "metadata": {},
   "outputs": [],
   "source": [
    "def sample(A: list, n: int):\n",
    "    sum = 0\n",
    "    print(f\"A is {A}, n is {n}\")\n",
    "    for i in range(1, n): # i is 1 to n-1\n",
    "        for j in range(i+1, n+1): # j is i+1 to n\n",
    "            sum = sum+A[i]*A[j]\n",
    "            print(f\"The i is {i}, j is {j} and sum is {sum}\")\n",
    "        print(\"=\"*40)\n",
    "    return sum"
   ]
  },
  {
   "cell_type": "code",
   "execution_count": 16,
   "metadata": {},
   "outputs": [
    {
     "name": "stdout",
     "output_type": "stream",
     "text": [
      "A is [0, 1, 2, 3, 4, 5, 6, 7, 8, 9, 10], n is 5\n",
      "The i is 1, j is 2 and sum is 2\n",
      "The i is 1, j is 3 and sum is 5\n",
      "The i is 1, j is 4 and sum is 9\n",
      "The i is 1, j is 5 and sum is 14\n",
      "========================================\n",
      "The i is 2, j is 3 and sum is 20\n",
      "The i is 2, j is 4 and sum is 28\n",
      "The i is 2, j is 5 and sum is 38\n",
      "========================================\n",
      "The i is 3, j is 4 and sum is 50\n",
      "The i is 3, j is 5 and sum is 65\n",
      "========================================\n",
      "The i is 4, j is 5 and sum is 85\n",
      "========================================\n"
     ]
    },
    {
     "data": {
      "text/plain": [
       "85"
      ]
     },
     "execution_count": 16,
     "metadata": {},
     "output_type": "execute_result"
    }
   ],
   "source": [
    "A = [i for i in range(0, 11)]\n",
    "sample(A, 5)"
   ]
  },
  {
   "cell_type": "code",
   "execution_count": null,
   "metadata": {},
   "outputs": [],
   "source": []
  }
 ],
 "metadata": {
  "kernelspec": {
   "display_name": "Python 3.10.7 64-bit",
   "language": "python",
   "name": "python3"
  },
  "language_info": {
   "codemirror_mode": {
    "name": "ipython",
    "version": 3
   },
   "file_extension": ".py",
   "mimetype": "text/x-python",
   "name": "python",
   "nbconvert_exporter": "python",
   "pygments_lexer": "ipython3",
   "version": "3.10.7"
  },
  "orig_nbformat": 4,
  "vscode": {
   "interpreter": {
    "hash": "eb4a0ac80907d7f44e1a5e88d3d3381b33e3dbedd3a24d113e876f30a0c46bee"
   }
  }
 },
 "nbformat": 4,
 "nbformat_minor": 2
}
