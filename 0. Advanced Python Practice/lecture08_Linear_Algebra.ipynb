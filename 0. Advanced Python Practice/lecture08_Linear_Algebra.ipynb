{
 "cells": [
  {
   "cell_type": "markdown",
   "metadata": {},
   "source": [
    "# Lecture 08\n",
    "\n",
    "### Title : Linear Algebra"
   ]
  },
  {
   "cell_type": "markdown",
   "metadata": {},
   "source": [
    "---\n",
    "\n",
    "### 👉 **Linear Algebra**\n",
    "\n",
    "- Vector\n",
    "- Matrix\n",
    "- Matrix addition\n",
    "- Matrix product"
   ]
  },
  {
   "cell_type": "markdown",
   "metadata": {},
   "source": [
    "### Vector representation of python\n",
    "\n",
    "- Vector를 파이썬으로 표시하는 다양한 방법\n",
    "    - list, tuple, dict, ...\n",
    "- 최선의 방법은 없음\n",
    "- 값의 변경 유무, 속성값 유무에 따라 선택할 수 있음"
   ]
  },
  {
   "cell_type": "code",
   "execution_count": 2,
   "metadata": {},
   "outputs": [
    {
     "name": "stdout",
     "output_type": "stream",
     "text": [
      "[7, 10]\n"
     ]
    }
   ],
   "source": [
    "# Vector의 계산\n",
    "\n",
    "u = [2,2]\n",
    "v = [2,3]\n",
    "z = [3,5]\n",
    "\n",
    "result = [sum(t)for t in zip(u,v,z)]\n",
    "print(result)"
   ]
  },
  {
   "cell_type": "code",
   "execution_count": 3,
   "metadata": {},
   "outputs": [
    {
     "name": "stdout",
     "output_type": "stream",
     "text": [
      "[10, 12, 14]\n"
     ]
    }
   ],
   "source": [
    "# Vector의 계싼 : Scalar-Vector product\n",
    "\n",
    "u = [1,2,3]\n",
    "v = [4,4,4]\n",
    "alpha = 2\n",
    "\n",
    "res = [alpha*sum(t) for t in zip(u,v)]\n",
    "print(res)"
   ]
  },
  {
   "cell_type": "markdown",
   "metadata": {},
   "source": [
    "### Matrix representation of python\n",
    "\n",
    "- Matrix 역시 Python으로 표시하는 다양한 방법이 존재\n",
    "    - list, tuple, dict, numpy, ...\n",
    "- 특히 dict으로 표현시 방법이 무궁무진함"
   ]
  },
  {
   "cell_type": "code",
   "execution_count": 4,
   "metadata": {},
   "outputs": [
    {
     "name": "stdout",
     "output_type": "stream",
     "text": [
      "[[8, 14], [10, 12]]\n"
     ]
    }
   ],
   "source": [
    "# Matrix Additional\n",
    "ma = [[3,6], [4,5]]\n",
    "mb = [[5,8], [6,7]]\n",
    "\n",
    "# Asterisk를 사용하여 unpacking시켜 각 index의 요소를 tuple에서 원래상태로 변환시킴\n",
    "res = [[sum(row) for row in zip(*t)] for t in zip(ma, mb)]\n",
    "print(res)"
   ]
  },
  {
   "cell_type": "code",
   "execution_count": 5,
   "metadata": {},
   "outputs": [
    {
     "name": "stdout",
     "output_type": "stream",
     "text": [
      "[[12, 24], [16, 20]]\n"
     ]
    }
   ],
   "source": [
    "# Matrix Scalar-Matrix Product\n",
    "\n",
    "ma = [[3,6], [4,5]]\n",
    "alpha = 4\n",
    "res = [[alpha*element for element in t] for t in ma]\n",
    "print(res)"
   ]
  },
  {
   "cell_type": "code",
   "execution_count": 6,
   "metadata": {},
   "outputs": [
    {
     "name": "stdout",
     "output_type": "stream",
     "text": [
      "[[1, 4], [2, 5], [3, 6]]\n"
     ]
    }
   ],
   "source": [
    "# Matrix Transpose\n",
    "ma = [[1,2,3], [4,5,6]]\n",
    "res = [[element for element in t] for t in zip(*ma)]\n",
    "print(res)"
   ]
  },
  {
   "cell_type": "code",
   "execution_count": 9,
   "metadata": {},
   "outputs": [
    {
     "name": "stdout",
     "output_type": "stream",
     "text": [
      "[[5, 8], [5, 6]]\n"
     ]
    }
   ],
   "source": [
    "# Matirx Product\n",
    "ma = [[1,1,2],[2,1,1]]\n",
    "mb = [[1,1], [2,1], [1,3]]\n",
    "res = [[sum(a*b for a, b in zip(row_a, col_b)) for col_b in zip(*mb)] for row_a in ma]\n",
    "print(res)"
   ]
  }
 ],
 "metadata": {
  "kernelspec": {
   "display_name": "Python 3.9.5 64-bit",
   "language": "python",
   "name": "python3"
  },
  "language_info": {
   "codemirror_mode": {
    "name": "ipython",
    "version": 3
   },
   "file_extension": ".py",
   "mimetype": "text/x-python",
   "name": "python",
   "nbconvert_exporter": "python",
   "pygments_lexer": "ipython3",
   "version": "3.9.5"
  },
  "orig_nbformat": 4,
  "vscode": {
   "interpreter": {
    "hash": "cf92aa13fedf815d5c8dd192b8d835913fde3e8bc926b2a0ad6cc74ef2ba3ca2"
   }
  }
 },
 "nbformat": 4,
 "nbformat_minor": 2
}
