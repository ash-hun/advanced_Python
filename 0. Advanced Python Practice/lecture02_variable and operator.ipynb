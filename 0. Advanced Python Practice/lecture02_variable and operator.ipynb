{
 "cells": [
  {
   "cell_type": "markdown",
   "metadata": {},
   "source": [
    "# Lecture 02\n",
    "\n",
    "### Title : PYTHON PROGRAMMING, VARIABLE & OPERATOR"
   ]
  },
  {
   "cell_type": "markdown",
   "metadata": {},
   "source": [
    "---\n",
    "\n",
    "### 👉 **Intrdouction to Variable**\n",
    "\n",
    "변수 : 값을 저장하는 공간 - = 연산자로 대입연산\n",
    "\n",
    "파이썬 변수의 특직 - 모든 변수는 메모리 주소를 가르친다.(즉, 모든것은 `포인터` 다 !!) - 변수명 < -일종의 이름표 - 선언한 변수에 특정 공간이 생기는 개념이 아니다. - 필요하면 공간을 만들고 변수명을 붙이는 격 !!"
   ]
  },
  {
   "cell_type": "code",
   "execution_count": 1,
   "metadata": {},
   "outputs": [
    {
     "data": {
      "text/plain": [
       "19"
      ]
     },
     "execution_count": 1,
     "metadata": {},
     "output_type": "execute_result"
    }
   ],
   "source": [
    "a = 15\n",
    "b = 4\n",
    "a+b"
   ]
  },
  {
   "cell_type": "code",
   "execution_count": 1,
   "metadata": {},
   "outputs": [
    {
     "data": {
      "text/plain": [
       "15"
      ]
     },
     "execution_count": 1,
     "metadata": {},
     "output_type": "execute_result"
    }
   ],
   "source": [
    "a = 15\n",
    "b = a\n",
    "b"
   ]
  },
  {
   "cell_type": "markdown",
   "metadata": {},
   "source": [
    "### 👉 **How to Name Variables**\n",
    "\n",
    "- 알파벳, 숫자, 언더스코어(_)로 선언\n",
    "    - 숫자로 변수명을 시작할 수는 없음\n",
    "    - `data = 0, _al=2, _gg-'afdf'`\n",
    "- 변수명은 그 변수의 특징이 잘 살아 있게 하자 **(가독성은 중요하다!!!)**\n",
    "    - `name = 'Hojun Cho'`\n",
    "- 변수명은 대소문자를 구분하고 예약어를 사용할 수 없다.\n",
    "    - abc와 ABC는 다르다.\n",
    "    - for, if, else, True 등은 변수명으로 사용할 수 없다. "
   ]
  },
  {
   "cell_type": "markdown",
   "metadata": {},
   "source": [
    "---  \n",
    "\n",
    "### 👉 **Assinging Variables**\n",
    "\n",
    "- C와 달리 대입연산이 딱히 반환 값을 가지는 것이 아니다.\n",
    "- 연속해서 대입이 가능하다. (C와 같이 뒤에서부터 대입)\n",
    "- := 연산으로 대입과 동시에 반환이 가능하다."
   ]
  },
  {
   "cell_type": "code",
   "execution_count": 3,
   "metadata": {},
   "outputs": [
    {
     "ename": "SyntaxError",
     "evalue": "invalid syntax. Maybe you meant '==' or ':=' instead of '='? (2693347846.py, line 1)",
     "output_type": "error",
     "traceback": [
      "\u001b[0;36m  Input \u001b[0;32mIn [3]\u001b[0;36m\u001b[0m\n\u001b[0;31m    (a=2)==2\u001b[0m\n\u001b[0m     ^\u001b[0m\n\u001b[0;31mSyntaxError\u001b[0m\u001b[0;31m:\u001b[0m invalid syntax. Maybe you meant '==' or ':=' instead of '='?\n"
     ]
    }
   ],
   "source": [
    "# C와 달리 대입연산이 딱히 반환 값을 가지는 것이 아니다.\n",
    "(a=2)==2 #Syntax Error"
   ]
  },
  {
   "cell_type": "code",
   "execution_count": 5,
   "metadata": {},
   "outputs": [
    {
     "name": "stdout",
     "output_type": "stream",
     "text": [
      "2\n",
      "2\n"
     ]
    }
   ],
   "source": [
    "# 연속해서 대입이 가능하다. (C와 같이 뒤에서부터 대입)\n",
    "\n",
    "A = B = 2\n",
    "print(A)\n",
    "print(B)"
   ]
  },
  {
   "cell_type": "code",
   "execution_count": 6,
   "metadata": {},
   "outputs": [
    {
     "data": {
      "text/plain": [
       "True"
      ]
     },
     "execution_count": 6,
     "metadata": {},
     "output_type": "execute_result"
    }
   ],
   "source": [
    "# := 연산으로 대입과 동시에 반환이 가능하다. (Python 3.9 이상)\n",
    "(c := 2) == 2"
   ]
  },
  {
   "cell_type": "markdown",
   "metadata": {},
   "source": [
    "### **👉 Primitive Data Types**\n",
    "\n",
    "- Primitive DataType(원시 자료형) : 가장 기본이 되는 자료형\n",
    "    - int(정수형)\n",
    "        - Overflow가 발생하지 않음\n",
    "        - 명시적인 Short type 등이 없음.\n",
    "    - float(실수형)\n",
    "        - 부동소수점, Double precision\n",
    "    - complex(복소수)\n",
    "        - 실수부와 허수부를 나눠서 표현\n",
    "        - 허수부는 j또는 J로 표현\n",
    "    - string(문자열)\n",
    "        - 따옴표로 표현\n",
    "        - Unicode\n",
    "        - 큰 따옴표, 작은 따옴표 차이 없음\n",
    "    - bool(논리)\n",
    "        - True / False 값 밖에 없음\n",
    "    - None(None)\n",
    "        - None 타입\n",
    "        - 일종의 null\n",
    "        - None 값 밖에 없음"
   ]
  },
  {
   "cell_type": "code",
   "execution_count": 1,
   "metadata": {},
   "outputs": [
    {
     "name": "stdout",
     "output_type": "stream",
     "text": [
      "15\n",
      "1.5\n",
      "(1+5j)\n",
      "text\n",
      "True\n",
      "None\n"
     ]
    }
   ],
   "source": [
    "a = 15 # 정수\n",
    "print(a)\n",
    "\n",
    "b = 1.5 # 실수\n",
    "print(b)\n",
    "\n",
    "c = 1+5j # 복소수\n",
    "print(c)\n",
    "\n",
    "d = \"text\" # 문자열\n",
    "print(d)\n",
    "\n",
    "e = True # Boolean, 대소문자에 주의\n",
    "print(e)\n",
    "\n",
    "f = None # None, 대소문자에 주의\n",
    "print(f)\n"
   ]
  },
  {
   "cell_type": "markdown",
   "metadata": {},
   "source": [
    "---  \n",
    "\n",
    "### 👉 **Feature of Arithmetic & Bit Operator**\n",
    "\n",
    "- Basic한 내용인 Primitive Data Type과 Arithmetic Operator, Bit Operator 종류는 예제 실습만 다룬다.\n",
    "- In-Place 연산\n",
    "    - `a += 1`은 In-Place 연산이다.\n",
    "    - 기존 객체를 수정 시도하고, 불가능할 시 새로운 객체를 생성한다.\n",
    "- Out-Place 연산\n",
    "    - `a = a+1`은 Out-Place 연산이다.\n",
    "    - 명시적으로 새로운 객체를 생성한다.\n",
    "- `a++` 연산은 파이썬에 존재하지 않는다."
   ]
  },
  {
   "cell_type": "code",
   "execution_count": 2,
   "metadata": {},
   "outputs": [
    {
     "name": "stdout",
     "output_type": "stream",
     "text": [
      "62\n",
      "-16\n",
      "12\n",
      "8\n",
      "1.5\n",
      "2\n",
      "3\n"
     ]
    }
   ],
   "source": [
    "# Arithmetic Operator\n",
    "print(50+12) # Addition\n",
    "print(30-46) # Substract\n",
    "print(2*6) # Multifly\n",
    "print(2**3) # Exponentiation\n",
    "print(3/2) # Division\n",
    "print(13//5) # Quotient\n",
    "print(13%5) # Remainder"
   ]
  },
  {
   "cell_type": "code",
   "execution_count": 3,
   "metadata": {},
   "outputs": [
    {
     "data": {
      "text/plain": [
       "6"
      ]
     },
     "execution_count": 3,
     "metadata": {},
     "output_type": "execute_result"
    }
   ],
   "source": [
    "# In-Place 연산\n",
    "a = 5\n",
    "a = a+1\n",
    "a"
   ]
  },
  {
   "cell_type": "code",
   "execution_count": 4,
   "metadata": {},
   "outputs": [
    {
     "data": {
      "text/plain": [
       "7"
      ]
     },
     "execution_count": 4,
     "metadata": {},
     "output_type": "execute_result"
    }
   ],
   "source": [
    "a+=1\n",
    "a"
   ]
  },
  {
   "cell_type": "code",
   "execution_count": 5,
   "metadata": {},
   "outputs": [
    {
     "data": {
      "text/plain": [
       "3"
      ]
     },
     "execution_count": 5,
     "metadata": {},
     "output_type": "execute_result"
    }
   ],
   "source": [
    "# Out-Place 연산\n",
    "a = 7\n",
    "a = a^4\n",
    "a"
   ]
  },
  {
   "cell_type": "code",
   "execution_count": 6,
   "metadata": {},
   "outputs": [
    {
     "data": {
      "text/plain": [
       "7"
      ]
     },
     "execution_count": 6,
     "metadata": {},
     "output_type": "execute_result"
    }
   ],
   "source": [
    "a^=4\n",
    "a"
   ]
  },
  {
   "cell_type": "markdown",
   "metadata": {},
   "source": [
    "---  \n",
    "\n",
    "### 👉 **Condition Operators**\n",
    "- X is Y : X와 Y의 주소가 같다.\n",
    "- x is not Y : X와 Y의 주소가 다르다."
   ]
  },
  {
   "cell_type": "code",
   "execution_count": 10,
   "metadata": {},
   "outputs": [
    {
     "name": "stdout",
     "output_type": "stream",
     "text": [
      "True\n",
      "True\n",
      "True\n",
      "True\n",
      "True\n"
     ]
    }
   ],
   "source": [
    "a = 3\n",
    "print(a<4)\n",
    "print(a>2)\n",
    "print(2<a and a<4)\n",
    "print(2<a<4)\n",
    "print(not a > 3)"
   ]
  },
  {
   "cell_type": "markdown",
   "metadata": {},
   "source": [
    "\n",
    "### 👉 **Features of Primitive Data Types**\n",
    "- 원시자료형(Primitive Data Types)들은 `불변타입(Immutable Type)`이다.\n",
    "- 원사지료형과 Tuple을 제회한 다른 모든 파이썬 객체는 `가변타입(Mutable Type)`이다."
   ]
  },
  {
   "cell_type": "code",
   "execution_count": 11,
   "metadata": {},
   "outputs": [
    {
     "data": {
      "text/plain": [
       "(11, 10, False)"
      ]
     },
     "execution_count": 11,
     "metadata": {},
     "output_type": "execute_result"
    }
   ],
   "source": [
    "# 파이썬에서 대입은 원칙적으로 메모리 주소 복사 (즉, 값을 복사하지 않고 같은 주소를 공유)\n",
    "# 불변형의 경우 수정이 필요할 경우에 새로운 객체를 생성\n",
    "\n",
    "a = 10\n",
    "b = a\n",
    "a += 1\n",
    "a, b, a is b"
   ]
  },
  {
   "cell_type": "code",
   "execution_count": 12,
   "metadata": {},
   "outputs": [
    {
     "data": {
      "text/plain": [
       "([1, 2, 3, 4], [1, 2, 3, 4], True)"
      ]
     },
     "execution_count": 12,
     "metadata": {},
     "output_type": "execute_result"
    }
   ],
   "source": [
    "a = [1,2,3]\n",
    "b = a\n",
    "a += [4]\n",
    "a, b, a is b"
   ]
  },
  {
   "cell_type": "code",
   "execution_count": 13,
   "metadata": {},
   "outputs": [
    {
     "data": {
      "text/plain": [
       "([1, 2, 3, 4, 5], [1, 2, 3, 4], False)"
      ]
     },
     "execution_count": 13,
     "metadata": {},
     "output_type": "execute_result"
    }
   ],
   "source": [
    "a = a+[5]\n",
    "a, b, a is b"
   ]
  },
  {
   "cell_type": "markdown",
   "metadata": {},
   "source": [
    "### 👉 **Dynamic Typing**\n",
    "- 코드 실행지점에서 데이터의 타입을 결정한다.\n",
    "\n",
    "### 👉 **Type Conversion**\n",
    "- `[Type]([value])`으로 명시적 형 변환이 가능하다.\n",
    "- `type([variable])`로 해당 변수의 타입확인이 가능하다.\n",
    "- `isintance([variable], [type])`으로 변수가 지정타입인지 확인 가능하다.\n"
   ]
  },
  {
   "cell_type": "code",
   "execution_count": 15,
   "metadata": {},
   "outputs": [
    {
     "name": "stdout",
     "output_type": "stream",
     "text": [
      "<class 'int'>\n",
      "<class 'float'>\n",
      "<class 'str'>\n",
      "---------------\n",
      "False\n",
      "True\n",
      "True\n"
     ]
    }
   ],
   "source": [
    "# Type Checking\n",
    "a = 123\n",
    "b = 12.3\n",
    "c = '12.3'\n",
    "isA = isinstance(a, float)\n",
    "isB = isinstance(b, float)\n",
    "isC = isinstance(c, str)\n",
    "\n",
    "print(type(a))\n",
    "print(type(b))\n",
    "print(type(c))\n",
    "print('-'*15)\n",
    "print(isA)\n",
    "print(isB)\n",
    "print(isC)\n"
   ]
  }
 ],
 "metadata": {
  "kernelspec": {
   "display_name": "Python 3.10.4 64-bit",
   "language": "python",
   "name": "python3"
  },
  "language_info": {
   "codemirror_mode": {
    "name": "ipython",
    "version": 3
   },
   "file_extension": ".py",
   "mimetype": "text/x-python",
   "name": "python",
   "nbconvert_exporter": "python",
   "pygments_lexer": "ipython3",
   "version": "3.10.4"
  },
  "orig_nbformat": 4,
  "vscode": {
   "interpreter": {
    "hash": "3ad933181bd8a04b432d3370b9dc3b0662ad032c4dfaa4e4f1596c548f763858"
   }
  }
 },
 "nbformat": 4,
 "nbformat_minor": 2
}
