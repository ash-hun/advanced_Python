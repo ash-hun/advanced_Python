{
 "cells": [
  {
   "cell_type": "code",
   "execution_count": 1,
   "metadata": {},
   "outputs": [],
   "source": [
    "import numpy as np\n",
    "import pandas as pd"
   ]
  },
  {
   "cell_type": "code",
   "execution_count": 42,
   "metadata": {},
   "outputs": [],
   "source": [
    "learning_rate = 0.001\n",
    "bias = 0.7\n",
    "epochs = 50\n",
    "final_epoch_loss = []"
   ]
  },
  {
   "cell_type": "code",
   "execution_count": 30,
   "metadata": {},
   "outputs": [],
   "source": [
    "random_generator = np.random.default_rng()\n",
    "\n",
    "def generate_data(n_feature, n_value):\n",
    "    weights = random_generator.random((1, n_value))[0]\n",
    "    features = random_generator.random((n_feature, n_value))\n",
    "    targets = np.random.choice([0,1], n_feature)\n",
    "    data = pd.DataFrame(features, columns =[\"n1\", \"n2\", \"n3\", \"n4\"])\n",
    "    data[\"target\"] = targets\n",
    "    return data, weights"
   ]
  },
  {
   "cell_type": "code",
   "execution_count": 31,
   "metadata": {},
   "outputs": [],
   "source": [
    "def get_weighted_sum(features, weights, bias):\n",
    "    return np.dot(features, weights) + bias"
   ]
  },
  {
   "cell_type": "code",
   "execution_count": 32,
   "metadata": {},
   "outputs": [],
   "source": [
    "def sigmoid(x):\n",
    "    return 1/(1+np.exp(-x))"
   ]
  },
  {
   "cell_type": "code",
   "execution_count": 33,
   "metadata": {},
   "outputs": [],
   "source": [
    "def cross_entropy_loss(target, prediction):\n",
    "    return -(target*np.log10(prediction) + (1-target)*np.log10(1-prediction))"
   ]
  },
  {
   "cell_type": "code",
   "execution_count": 34,
   "metadata": {},
   "outputs": [],
   "source": [
    "def update_weights(weights, learning_rate, target, prediction, feature):\n",
    "    new_weights = []\n",
    "    for input_x, old_weight in zip(feature, weights):\n",
    "        new_weight = old_weight + learning_rate*(target - prediction)*input_x\n",
    "        new_weights.append(new_weight)\n",
    "    return new_weights\n",
    "\n",
    "def update_bias(bias, learning_rate, target, prediction):\n",
    "    return bias + learning_rate*(target-prediction)"
   ]
  },
  {
   "cell_type": "code",
   "execution_count": 38,
   "metadata": {},
   "outputs": [],
   "source": [
    "data, weights = generate_data(500, 4)\n",
    "\n",
    "def train_model(data, weights, bias, learning_rate, epochs):\n",
    "    for epoch in range(epochs):\n",
    "        individual_loss = []\n",
    "        for i in range(0, len(data)):\n",
    "            feature = data.loc[i][:-1] # [\"n1\", \"n2\", \"n3\", \"n4\"] .... features\n",
    "            target = data.loc[i][-1] # .... \"target\"\n",
    "            w_sum = get_weighted_sum(features=feature, weights=weights, bias=bias)\n",
    "            prediction = sigmoid(w_sum)\n",
    "            loss = cross_entropy_loss(target, prediction)\n",
    "            individual_loss.append(loss)\n",
    "            weights = update_weights(weights, learning_rate, target, prediction, feature)\n",
    "            bias = update_bias(bias, learning_rate, target, prediction)\n",
    "        average_loss = sum(individual_loss)/len(individual_loss)\n",
    "        final_epoch_loss.append(average_loss)\n",
    "        print(f\"*********************************** Epoch: {epoch}, Loss: {average_loss}\")\n"
   ]
  },
  {
   "cell_type": "code",
   "execution_count": 43,
   "metadata": {},
   "outputs": [
    {
     "name": "stdout",
     "output_type": "stream",
     "text": [
      "*********************************** Epoch: 0, Loss: 0.5458162672368542\n",
      "*********************************** Epoch: 1, Loss: 0.4749181342954992\n",
      "*********************************** Epoch: 2, Loss: 0.41942927721794476\n",
      "*********************************** Epoch: 3, Loss: 0.37868019102254946\n",
      "*********************************** Epoch: 4, Loss: 0.3504389881033856\n",
      "*********************************** Epoch: 5, Loss: 0.3317609554425631\n",
      "*********************************** Epoch: 6, Loss: 0.3198205808301922\n",
      "*********************************** Epoch: 7, Loss: 0.31235703665925507\n",
      "*********************************** Epoch: 8, Loss: 0.30775437825123897\n",
      "*********************************** Epoch: 9, Loss: 0.3049357921004348\n",
      "*********************************** Epoch: 10, Loss: 0.3032136662520137\n",
      "*********************************** Epoch: 11, Loss: 0.30215986797298783\n",
      "*********************************** Epoch: 12, Loss: 0.301511676331063\n",
      "*********************************** Epoch: 13, Loss: 0.3011091746343156\n",
      "*********************************** Epoch: 14, Loss: 0.30085543834716433\n",
      "*********************************** Epoch: 15, Loss: 0.30069184255509684\n",
      "*********************************** Epoch: 16, Loss: 0.3005829548698292\n",
      "*********************************** Epoch: 17, Loss: 0.30050736033416475\n",
      "*********************************** Epoch: 18, Loss: 0.3004521099546128\n",
      "*********************************** Epoch: 19, Loss: 0.30040936760314946\n",
      "*********************************** Epoch: 20, Loss: 0.30037438601156263\n",
      "*********************************** Epoch: 21, Loss: 0.3003442850564281\n",
      "*********************************** Epoch: 22, Loss: 0.3003173140845511\n",
      "*********************************** Epoch: 23, Loss: 0.3002924062812693\n",
      "*********************************** Epoch: 24, Loss: 0.30026890929789346\n",
      "*********************************** Epoch: 25, Loss: 0.3002464223082758\n",
      "*********************************** Epoch: 26, Loss: 0.30022469736486784\n",
      "*********************************** Epoch: 27, Loss: 0.3002035796249475\n",
      "*********************************** Epoch: 28, Loss: 0.3001829710901051\n",
      "*********************************** Epoch: 29, Loss: 0.30016280857985855\n",
      "*********************************** Epoch: 30, Loss: 0.30014305032947974\n",
      "*********************************** Epoch: 31, Loss: 0.30012366781839267\n",
      "*********************************** Epoch: 32, Loss: 0.3001046407747865\n",
      "*********************************** Epoch: 33, Loss: 0.3000859541119021\n",
      "*********************************** Epoch: 34, Loss: 0.30006759604130073\n",
      "*********************************** Epoch: 35, Loss: 0.3000495569049963\n",
      "*********************************** Epoch: 36, Loss: 0.30003182844792364\n",
      "*********************************** Epoch: 37, Loss: 0.30001440336115864\n",
      "*********************************** Epoch: 38, Loss: 0.29999727499236656\n",
      "*********************************** Epoch: 39, Loss: 0.29998043716013895\n",
      "*********************************** Epoch: 40, Loss: 0.29996388403330526\n",
      "*********************************** Epoch: 41, Loss: 0.2999476100512472\n",
      "*********************************** Epoch: 42, Loss: 0.29993160987032147\n",
      "*********************************** Epoch: 43, Loss: 0.2999158783271145\n",
      "*********************************** Epoch: 44, Loss: 0.29990041041269583\n",
      "*********************************** Epoch: 45, Loss: 0.2998852012541497\n",
      "*********************************** Epoch: 46, Loss: 0.2998702461010224\n",
      "*********************************** Epoch: 47, Loss: 0.2998555403151244\n",
      "*********************************** Epoch: 48, Loss: 0.29984107936267457\n",
      "*********************************** Epoch: 49, Loss: 0.29982685880810583\n"
     ]
    }
   ],
   "source": [
    "train_model(data, weights, bias, learning_rate, epochs)"
   ]
  },
  {
   "cell_type": "code",
   "execution_count": 44,
   "metadata": {},
   "outputs": [
    {
     "data": {
      "image/png": "[encoded data removed]",
      "text/plain": [
       "<Figure size 640x480 with 1 Axes>"
      ]
     },
     "metadata": {},
     "output_type": "display_data"
    }
   ],
   "source": [
    "df = pd.DataFrame(final_epoch_loss)\n",
    "df_plot = df.plot(kind=\"line\", grid=True).get_figure()"
   ]
  },
  {
   "cell_type": "code",
   "execution_count": null,
   "metadata": {},
   "outputs": [],
   "source": []
  }
 ],
 "metadata": {
  "kernelspec": {
   "display_name": "Python 3.9.5 64-bit",
   "language": "python",
   "name": "python3"
  },
  "language_info": {
   "codemirror_mode": {
    "name": "ipython",
    "version": 3
   },
   "file_extension": ".py",
   "mimetype": "text/x-python",
   "name": "python",
   "nbconvert_exporter": "python",
   "pygments_lexer": "ipython3",
   "version": "3.9.5"
  },
  "orig_nbformat": 4,
  "vscode": {
   "interpreter": {
    "hash": "cf92aa13fedf815d5c8dd192b8d835913fde3e8bc926b2a0ad6cc74ef2ba3ca2"
   }
  }
 },
 "nbformat": 4,
 "nbformat_minor": 2
}
