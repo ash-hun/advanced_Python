{
 "cells": [
  {
   "cell_type": "markdown",
   "metadata": {},
   "source": [
    "# Numpy Tutorials\n",
    "\n",
    "- Numpy is the core library for scientific computing in Python. \n",
    "- Ref link. : https://cs231n.github.io/python-numpy-tutorial/"
   ]
  },
  {
   "cell_type": "code",
   "execution_count": 1,
   "metadata": {},
   "outputs": [],
   "source": [
    "# importing module\n",
    "import numpy as np"
   ]
  },
  {
   "cell_type": "markdown",
   "metadata": {},
   "source": [
    "### **Array Indexing/Slicing**\n",
    "\n",
    "- "
   ]
  },
  {
   "cell_type": "code",
   "execution_count": null,
   "metadata": {},
   "outputs": [],
   "source": []
  },
  {
   "cell_type": "code",
   "execution_count": null,
   "metadata": {},
   "outputs": [],
   "source": []
  },
  {
   "cell_type": "code",
   "execution_count": null,
   "metadata": {},
   "outputs": [],
   "source": []
  },
  {
   "cell_type": "code",
   "execution_count": null,
   "metadata": {},
   "outputs": [],
   "source": []
  },
  {
   "cell_type": "code",
   "execution_count": null,
   "metadata": {},
   "outputs": [],
   "source": []
  },
  {
   "cell_type": "code",
   "execution_count": null,
   "metadata": {},
   "outputs": [],
   "source": []
  },
  {
   "cell_type": "markdown",
   "metadata": {},
   "source": [
    "### **Array Mathematics**\n",
    "\n",
    "- Arithmetic Operation\n",
    "    - `np.subtract()`\n",
    "    - `np.add()`\n",
    "    - `np.divide()`\n",
    "    - `np.multiply()`\n",
    "    - `np.exp()`\n",
    "    - `np.sqrt()`\n",
    "    - `np.sin()`\n",
    "    - `np.log()`\n",
    "    - `np.dot()`\n",
    "- Aggregate Functions\n",
    "    - `np.sum()`\n",
    "    - `np.min()`\n",
    "    - `np.max()`\n",
    "    - `np.cumsum()`\n",
    "    - `np.mean()`\n",
    "    - `np.median()`\n",
    "    - `np.corrcoef()`\n",
    "    - `np.std(b)`\n",
    "- Copying Arrays\n",
    "    - `np.view()`\n",
    "    - `np.copy()`\n",
    "- Sorting Arrays\n",
    "    - `np.sort()`"
   ]
  },
  {
   "cell_type": "markdown",
   "metadata": {},
   "source": []
  }
 ],
 "metadata": {
  "kernelspec": {
   "display_name": "Python 3.9.5 64-bit",
   "language": "python",
   "name": "python3"
  },
  "language_info": {
   "codemirror_mode": {
    "name": "ipython",
    "version": 3
   },
   "file_extension": ".py",
   "mimetype": "text/x-python",
   "name": "python",
   "nbconvert_exporter": "python",
   "pygments_lexer": "ipython3",
   "version": "3.9.5"
  },
  "orig_nbformat": 4,
  "vscode": {
   "interpreter": {
    "hash": "cf92aa13fedf815d5c8dd192b8d835913fde3e8bc926b2a0ad6cc74ef2ba3ca2"
   }
  }
 },
 "nbformat": 4,
 "nbformat_minor": 2
}
