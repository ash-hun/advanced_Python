{
 "cells": [
  {
   "cell_type": "markdown",
   "metadata": {},
   "source": [
    "# Numpy Tutorials\n",
    "\n",
    "- Numpy is the core library for scientific computing in Python. \n",
    "- Ref link. : https://cs231n.github.io/python-numpy-tutorial/"
   ]
  },
  {
   "cell_type": "code",
   "execution_count": 2,
   "metadata": {},
   "outputs": [],
   "source": [
    "# importing module\n",
    "import numpy as np"
   ]
  },
  {
   "cell_type": "markdown",
   "metadata": {},
   "source": [
    "## **Arrays**\n",
    "\n",
    "A numpy array is a grid of values, all of the same type, and is indexed by a tuple of nonnegative integers. The number of dimensions is the *rank* of the array.  \n",
    "The *shape* of an array is a tuple of integers giving the size of the array along each dimension.  \n",
    "\n",
    "\n",
    "![img](https://img1.daumcdn.net/thumb/R1280x0/?scode=mtistory2&fname=https%3A%2F%2Fblog.kakaocdn.net%2Fdn%2FD6KqG%2Fbtq3VOwyyEO%2FueEYkgv9JZcF0bvyv7h9J0%2Fimg.png)\n",
    "\n",
    "#### **Numpy Terminology**\n",
    "- `axis` : 각 차원의 축\n",
    "    - `axis = 0`은 행렬에서 행(=row)을 가리키는 축\n",
    "    - `axis = 1`은 행렬에서 열(=col)을 가리키는 축\n",
    "- `dim` : tensor가 존재하는 축의 개수\n",
    "    - ※ 단, dim을 '축'이 아니라 '차원'이라는 단어를 쓰기도 한다.  \n",
    "    이때 벡터나 행렬의 '차원'과 헷갈리면 안된다.  \n",
    "    벡터, 행렬이 2차원이라고 할 때 차원은 '열의 갯수'를 의미한다.  \n",
    "- `rank` : 텐서가 몇 차원인지 나타냄\n",
    "- `shape` : 각 축(차원)에 존재하는 원소의 수\n",
    "    - `dim >= 3` 일 경우 가장 바깥쪽 차원부터 작성한다.\n",
    "    - 이를 표현하기에 (배치사이즈 x 행의 개수 x 열의 개수)로 말한다.\n",
    "    - 4x3 2dim matrix 2개를 만든다면 shape : (2,4,3)\n",
    "    - 4x3x2 3dim matrix 3개를 만든다면 shape : (3,2,4,3)\n",
    "- `size` : 총 element의 갯수"
   ]
  },
  {
   "cell_type": "markdown",
   "metadata": {},
   "source": [
    "#### **Create arrarys**\n",
    "- `np.array(__list type__)`\n",
    "    - `np.array([1,2,3])` : array([1, 2, 3])\n",
    "- `np.array(__list type__, dtype = data_type)`\n",
    "    - `np.array([(1.5,2,3), (4,5,6)], dtype=float)` : array([[1.5, 2. , 3. ], [4. , 5. , 6. ]])"
   ]
  },
  {
   "cell_type": "code",
   "execution_count": 4,
   "metadata": {},
   "outputs": [
    {
     "name": "stdout",
     "output_type": "stream",
     "text": [
      "type : <class 'numpy.ndarray'>\n",
      "shape : (3,)\n",
      "1 2 3\n",
      "[5 2 3]\n",
      "\n",
      "shape : (2, 3)\n",
      "1 2 4\n"
     ]
    }
   ],
   "source": [
    "a = np.array([1,2,3])       # Create a rank 1 array\n",
    "print(f\"type : {type(a)}\")  # Prints \"<class 'numpy.ndarray'>\"\n",
    "print(f\"shape : {a.shape}\") # Prints \"(3, )\"\n",
    "print(a[0], a[1], a[2])     # Prints \"1 2 3\"\n",
    "\n",
    "a[0] = 5                    # Change an element of the array\n",
    "print(a)                    # Prints \"[5,2,3]\"\n",
    "print()\n",
    "\n",
    "b = np.array([[1,2,3], [4,5,6]])    # Create a rank 2 array\n",
    "print(f\"shape : {b.shape}\")         # Prints \"(2, 3)\"\n",
    "print(b[0, 0], b[0,1], b[1,0])      # Prints \"1 2 4\"\n"
   ]
  },
  {
   "cell_type": "code",
   "execution_count": 9,
   "metadata": {},
   "outputs": [
    {
     "data": {
      "text/plain": [
       "array([[1.5, 2. , 3. ],\n",
       "       [4. , 5. , 6. ]])"
      ]
     },
     "execution_count": 9,
     "metadata": {},
     "output_type": "execute_result"
    }
   ],
   "source": [
    "a = np.array([(1.5,2,3), (4,5,6)], dtype=float)\n",
    "a"
   ]
  },
  {
   "cell_type": "markdown",
   "metadata": {},
   "source": [
    "#### **Inspecting Your Array**\n",
    "\n",
    "`t = np.array([(1,2,3), (4,5,6)])`\n",
    "\n",
    "- `t.shape`\n",
    "- `t.ndim`\n",
    "- `t.size`\n",
    "- `t.dtype`\n",
    "- `t.dtype.name`\n",
    "- `t.astype(__Another Data type__)`"
   ]
  },
  {
   "cell_type": "code",
   "execution_count": 15,
   "metadata": {},
   "outputs": [
    {
     "name": "stdout",
     "output_type": "stream",
     "text": [
      "t.shape : (2, 3)\n",
      "t.ndim : 2\n",
      "t.size : 6\n",
      "t.dtype : int32\n",
      "t.dtype.name : int32\n",
      "t.astype(str) : [['1' '2' '3']\n",
      " ['4' '5' '6']]\n"
     ]
    }
   ],
   "source": [
    "t = np.array([(1,2,3), (4,5,6)])\n",
    "print(f\"t.shape : {t.shape}\")\n",
    "print(f\"t.ndim : {t.ndim}\")\n",
    "print(f\"t.size : {t.size}\")\n",
    "print(f\"t.dtype : {t.dtype}\")\n",
    "print(f\"t.dtype.name : {t.dtype.name}\")\n",
    "print(f\"t.astype(str) : {t.astype(str)}\")"
   ]
  },
  {
   "cell_type": "markdown",
   "metadata": {},
   "source": [
    "#### **Initial Placeholder**\n",
    "\n",
    "- `np.zeros()` : 0으로 채워진 배열을 만들기 위해 사용, 메모리를 할당받아 0으로 초기화한 뒤 반환\n",
    "- `np.ones()` : 1로 채워진 배열을 만들기 위해 사용\n",
    "- `np.arange()` : 반열린구간에서 step의 크기만큼 일정하게 떨어져 있는 숫자들을 array형태로 반환\n",
    "    - numpy.arange([start, ], stop, [step, ], dtype=None)\n",
    "- `np.linspace` : start부터 stop까지 num개만큼 array형태로 반환\n",
    "    - numpy.linspace(start, stop, num)\n",
    "- `np.full()` : shape에 맞게 value값을 채워 array형태로 반환\n",
    "    - numpy.full(shape, value)\n",
    "- `np.eye()` : 특정 rank의 단위 행렬을 만든다. 정사각행렬에 주대선의 원소들이 1인 행렬\n",
    "- `np.random.rand()` : 주어진 형태의 난수 array를 생성\n",
    "- `np.empty()` : 빈 배열을 만들기 위해 사용, 메모리를 할당만 받고 초기화 없이 반환\n",
    "    - numpy.empty(shape, dtype)"
   ]
  },
  {
   "cell_type": "code",
   "execution_count": 31,
   "metadata": {},
   "outputs": [
    {
     "name": "stdout",
     "output_type": "stream",
     "text": [
      "np.zeros(5) ▼ \n",
      " [0. 0. 0. 0. 0.]\n",
      "\n",
      "np.zeros((3,4)) ▼ \n",
      " [[0. 0. 0. 0.]\n",
      " [0. 0. 0. 0.]\n",
      " [0. 0. 0. 0.]]\n"
     ]
    }
   ],
   "source": [
    "# np.zeros()\n",
    "a = np.zeros(5)\n",
    "b = np.zeros((3,4))\n",
    "\n",
    "print(f\"np.zeros(5) ▼ \\n {a}\\n\")\n",
    "print(f\"np.zeros((3,4)) ▼ \\n {b}\")"
   ]
  },
  {
   "cell_type": "code",
   "execution_count": 33,
   "metadata": {},
   "outputs": [
    {
     "name": "stdout",
     "output_type": "stream",
     "text": [
      "np.ones(5) ▼ \n",
      " [1. 1. 1. 1. 1.]\n",
      "\n",
      "np.ones((3,4)) ▼ \n",
      " [[1. 1. 1. 1.]\n",
      " [1. 1. 1. 1.]\n",
      " [1. 1. 1. 1.]]\n"
     ]
    }
   ],
   "source": [
    "# np.ones()\n",
    "a = np.ones(5)\n",
    "b = np.ones((3,4))\n",
    "\n",
    "print(f\"np.ones(5) ▼ \\n {a}\\n\")\n",
    "print(f\"np.ones((3,4)) ▼ \\n {b}\")"
   ]
  },
  {
   "cell_type": "code",
   "execution_count": 35,
   "metadata": {},
   "outputs": [
    {
     "name": "stdout",
     "output_type": "stream",
     "text": [
      "np.arrange(10) ▼ \n",
      " [0 1 2 3 4 5 6 7 8 9]\n",
      "\n",
      "np.arrange(1, 15, 2) ▼ \n",
      " [ 1  3  5  7  9 11 13]\n",
      "\n",
      "np.arrange(9, -2, -1.5) ▼ \n",
      " [ 9.   7.5  6.   4.5  3.   1.5  0.  -1.5]\n",
      "\n"
     ]
    }
   ],
   "source": [
    "# np.arange()\n",
    "a = np.arange(10)\n",
    "b = np.arange(1, 15, 2)\n",
    "c = np.arange(9, -2, -1.5)\n",
    "\n",
    "print(f\"np.arrange(10) ▼ \\n {a}\\n\")\n",
    "print(f\"np.arrange(1, 15, 2) ▼ \\n {b}\\n\")\n",
    "print(f\"np.arrange(9, -2, -1.5) ▼ \\n {c}\\n\")"
   ]
  },
  {
   "cell_type": "code",
   "execution_count": 25,
   "metadata": {},
   "outputs": [
    {
     "data": {
      "text/plain": [
       "<function matplotlib.pyplot.show(close=None, block=None)>"
      ]
     },
     "execution_count": 25,
     "metadata": {},
     "output_type": "execute_result"
    },
    {
     "data": {
      "image/png": "[encoded data removed]",
      "text/plain": [
       "<Figure size 640x480 with 1 Axes>"
      ]
     },
     "metadata": {},
     "output_type": "display_data"
    }
   ],
   "source": [
    "# np.linspace()\n",
    "\n",
    "import matplotlib.pyplot as plt\n",
    "\n",
    "x = np.linspace(0,2*np.pi, 100)\n",
    "y = np.sin(x)\n",
    "plt.plot(x, y, color='r')\n",
    "plt.show"
   ]
  },
  {
   "cell_type": "code",
   "execution_count": 38,
   "metadata": {},
   "outputs": [
    {
     "name": "stdout",
     "output_type": "stream",
     "text": [
      "[[5 5 5]\n",
      " [5 5 5]\n",
      " [5 5 5]\n",
      " [5 5 5]]\n"
     ]
    }
   ],
   "source": [
    "# np.full()\n",
    "f = np.full((4,3), 5)\n",
    "print(f)"
   ]
  },
  {
   "cell_type": "code",
   "execution_count": 40,
   "metadata": {},
   "outputs": [
    {
     "name": "stdout",
     "output_type": "stream",
     "text": [
      "[[1. 0.]\n",
      " [0. 1.]]\n",
      "[[1. 0. 0. 0. 0. 0. 0. 0.]\n",
      " [0. 1. 0. 0. 0. 0. 0. 0.]\n",
      " [0. 0. 1. 0. 0. 0. 0. 0.]\n",
      " [0. 0. 0. 1. 0. 0. 0. 0.]\n",
      " [0. 0. 0. 0. 1. 0. 0. 0.]\n",
      " [0. 0. 0. 0. 0. 1. 0. 0.]\n",
      " [0. 0. 0. 0. 0. 0. 1. 0.]\n",
      " [0. 0. 0. 0. 0. 0. 0. 1.]]\n"
     ]
    }
   ],
   "source": [
    "# np.eye()\n",
    "e = np.eye(2)\n",
    "E = np.eye(8)\n",
    "print(e)\n",
    "print(E)"
   ]
  },
  {
   "cell_type": "code",
   "execution_count": 41,
   "metadata": {},
   "outputs": [
    {
     "name": "stdout",
     "output_type": "stream",
     "text": [
      "[0.6460569  0.60605689 0.67550698 0.7657232  0.09467338]\n"
     ]
    }
   ],
   "source": [
    "# np.random.rand()\n",
    "r = np.random.rand(5)\n",
    "print(r)"
   ]
  },
  {
   "cell_type": "code",
   "execution_count": 45,
   "metadata": {},
   "outputs": [
    {
     "name": "stdout",
     "output_type": "stream",
     "text": [
      "[  0 -20 -34  76  58   1   0   0   0   0]\n"
     ]
    }
   ],
   "source": [
    "# np.empty()\n",
    "em = np.empty(shape = (10, ), dtype=np.int8)\n",
    "print(em)"
   ]
  }
 ],
 "metadata": {
  "kernelspec": {
   "display_name": "Python 3.9.5 64-bit",
   "language": "python",
   "name": "python3"
  },
  "language_info": {
   "codemirror_mode": {
    "name": "ipython",
    "version": 3
   },
   "file_extension": ".py",
   "mimetype": "text/x-python",
   "name": "python",
   "nbconvert_exporter": "python",
   "pygments_lexer": "ipython3",
   "version": "3.9.5"
  },
  "orig_nbformat": 4,
  "vscode": {
   "interpreter": {
    "hash": "cf92aa13fedf815d5c8dd192b8d835913fde3e8bc926b2a0ad6cc74ef2ba3ca2"
   }
  }
 },
 "nbformat": 4,
 "nbformat_minor": 2
}
