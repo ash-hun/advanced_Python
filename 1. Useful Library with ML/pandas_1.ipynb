{
 "cells": [
  {
   "cell_type": "markdown",
   "metadata": {},
   "source": [
    "# Pandas Tutorials\n",
    "\n",
    "- Pandas is a Python library for data manipulation and analysis, and can be conveniently used to process large amounts of data.\n",
    "- Ref link. : https://codetorial.net/pandas/index.html"
   ]
  },
  {
   "cell_type": "code",
   "execution_count": 1,
   "metadata": {},
   "outputs": [],
   "source": [
    "# importing module\n",
    "import numpy as np\n",
    "import matplotlib.pyplot as plt\n",
    "import pandas as pd"
   ]
  },
  {
   "cell_type": "markdown",
   "metadata": {},
   "source": [
    "## Pandas Object Creation\n",
    "\n",
    "- Series : 레이블을 가지는 1차원 어레이\n",
    "- DataFrame : 레이블을 갖는 행x열 구조의 2차원 어레이"
   ]
  },
  {
   "cell_type": "code",
   "execution_count": 3,
   "metadata": {},
   "outputs": [
    {
     "name": "stdout",
     "output_type": "stream",
     "text": [
      "0    1\n",
      "1    2\n",
      "2    3\n",
      "3    4\n",
      "4    5\n",
      "5    6\n",
      "dtype: int64\n",
      "0    1.0\n",
      "1    2.0\n",
      "2    3.0\n",
      "3    4.0\n",
      "4    5.0\n",
      "5    6.3\n",
      "dtype: float64\n"
     ]
    }
   ],
   "source": [
    "s = pd.Series([1,2,3,4,5,6])\n",
    "t = pd.Series([1,2,3,4,5,6.3])\n",
    "print(s)\n",
    "print(t)"
   ]
  },
  {
   "cell_type": "code",
   "execution_count": 4,
   "metadata": {},
   "outputs": [
    {
     "data": {
      "text/plain": [
       "a    1.0\n",
       "b    2.0\n",
       "c    3.0\n",
       "d    4.5\n",
       "e    5.0\n",
       "f    6.0\n",
       "dtype: float64"
      ]
     },
     "execution_count": 4,
     "metadata": {},
     "output_type": "execute_result"
    }
   ],
   "source": [
    "s = pd.Series([1,2,3,4.5,5,6], index=['a', 'b', 'c', 'd', 'e', 'f'])\n",
    "s"
   ]
  },
  {
   "cell_type": "code",
   "execution_count": 11,
   "metadata": {},
   "outputs": [
    {
     "name": "stdout",
     "output_type": "stream",
     "text": [
      "DatetimeIndex(['2023-01-12', '2023-01-13', '2023-01-14', '2023-01-15',\n",
      "               '2023-01-16', '2023-01-17'],\n",
      "              dtype='datetime64[ns]', freq='D')\n",
      "                   A         B         C         D\n",
      "2023-01-12 -0.266792  1.377294 -0.175429 -0.739934\n",
      "2023-01-13  1.700311 -1.571461  0.541603 -1.019701\n",
      "2023-01-14 -1.206732 -0.196157  0.636868 -0.960703\n",
      "2023-01-15  1.042251  1.149469 -0.270747 -0.182074\n",
      "2023-01-16  1.143645 -2.258893 -0.799982  0.820826\n",
      "2023-01-17  2.234045  0.753644 -0.743134  1.080843\n"
     ]
    }
   ],
   "source": [
    "dates = pd.date_range('20230112', periods=6)\n",
    "df = pd.DataFrame(np.random.randn(6, 4), index=dates, columns=list('ABCD'))\n",
    "print(dates)\n",
    "print(df)"
   ]
  },
  {
   "cell_type": "code",
   "execution_count": 12,
   "metadata": {},
   "outputs": [
    {
     "name": "stdout",
     "output_type": "stream",
     "text": [
      "     A          B    C  D      E    F\n",
      "0  1.0 2013-01-02  1.0  3   test  foo\n",
      "1  1.0 2013-01-02  1.0  3  train  foo\n",
      "2  1.0 2013-01-02  1.0  3   test  foo\n",
      "3  1.0 2013-01-02  1.0  3  train  foo\n",
      "A           float64\n",
      "B    datetime64[ns]\n",
      "C           float32\n",
      "D             int32\n",
      "E          category\n",
      "F            object\n",
      "dtype: object\n"
     ]
    }
   ],
   "source": [
    "df2 = pd.DataFrame({'A': 1.,\n",
    "                  'B': pd.Timestamp('20130102'),\n",
    "                  'C': pd.Series(1, index=list(range(4)), dtype='float32'),\n",
    "                  'D': np.array([3] * 4, dtype='int32'),\n",
    "                  'E': pd.Categorical([\"test\", \"train\", \"test\", \"train\"]),\n",
    "                  'F': 'foo'})\n",
    "\n",
    "print(df2)\n",
    "print(df2.dtypes)"
   ]
  },
  {
   "cell_type": "code",
   "execution_count": 14,
   "metadata": {},
   "outputs": [
    {
     "data": {
      "text/html": [
       "<div>\n",
       "<style scoped>\n",
       "    .dataframe tbody tr th:only-of-type {\n",
       "        vertical-align: middle;\n",
       "    }\n",
       "\n",
       "    .dataframe tbody tr th {\n",
       "        vertical-align: top;\n",
       "    }\n",
       "\n",
       "    .dataframe thead th {\n",
       "        text-align: right;\n",
       "    }\n",
       "</style>\n",
       "<table border=\"1\" class=\"dataframe\">\n",
       "  <thead>\n",
       "    <tr style=\"text-align: right;\">\n",
       "      <th></th>\n",
       "      <th>0</th>\n",
       "      <th>1</th>\n",
       "    </tr>\n",
       "  </thead>\n",
       "  <tbody>\n",
       "    <tr>\n",
       "      <th>0</th>\n",
       "      <td>a</td>\n",
       "      <td>1</td>\n",
       "    </tr>\n",
       "    <tr>\n",
       "      <th>1</th>\n",
       "      <td>b</td>\n",
       "      <td>2</td>\n",
       "    </tr>\n",
       "    <tr>\n",
       "      <th>2</th>\n",
       "      <td>c</td>\n",
       "      <td>3</td>\n",
       "    </tr>\n",
       "    <tr>\n",
       "      <th>3</th>\n",
       "      <td>d</td>\n",
       "      <td>4</td>\n",
       "    </tr>\n",
       "  </tbody>\n",
       "</table>\n",
       "</div>"
      ],
      "text/plain": [
       "   0  1\n",
       "0  a  1\n",
       "1  b  2\n",
       "2  c  3\n",
       "3  d  4"
      ]
     },
     "execution_count": 14,
     "metadata": {},
     "output_type": "execute_result"
    }
   ],
   "source": [
    "df3 = pd.read_csv('./assets/pandas_ex01.csv', header=None)\n",
    "df3"
   ]
  },
  {
   "cell_type": "code",
   "execution_count": 15,
   "metadata": {},
   "outputs": [
    {
     "data": {
      "text/html": [
       "<div>\n",
       "<style scoped>\n",
       "    .dataframe tbody tr th:only-of-type {\n",
       "        vertical-align: middle;\n",
       "    }\n",
       "\n",
       "    .dataframe tbody tr th {\n",
       "        vertical-align: top;\n",
       "    }\n",
       "\n",
       "    .dataframe thead th {\n",
       "        text-align: right;\n",
       "    }\n",
       "</style>\n",
       "<table border=\"1\" class=\"dataframe\">\n",
       "  <thead>\n",
       "    <tr style=\"text-align: right;\">\n",
       "      <th></th>\n",
       "      <th>string</th>\n",
       "      <th>number</th>\n",
       "    </tr>\n",
       "  </thead>\n",
       "  <tbody>\n",
       "    <tr>\n",
       "      <th>0</th>\n",
       "      <td>a</td>\n",
       "      <td>1</td>\n",
       "    </tr>\n",
       "    <tr>\n",
       "      <th>1</th>\n",
       "      <td>b</td>\n",
       "      <td>2</td>\n",
       "    </tr>\n",
       "    <tr>\n",
       "      <th>2</th>\n",
       "      <td>c</td>\n",
       "      <td>3</td>\n",
       "    </tr>\n",
       "    <tr>\n",
       "      <th>3</th>\n",
       "      <td>d</td>\n",
       "      <td>4</td>\n",
       "    </tr>\n",
       "  </tbody>\n",
       "</table>\n",
       "</div>"
      ],
      "text/plain": [
       "  string  number\n",
       "0      a       1\n",
       "1      b       2\n",
       "2      c       3\n",
       "3      d       4"
      ]
     },
     "execution_count": 15,
     "metadata": {},
     "output_type": "execute_result"
    }
   ],
   "source": [
    "df4 = pd.read_csv('./assets/pandas_ex02.csv', header=0)\n",
    "df4"
   ]
  },
  {
   "cell_type": "code",
   "execution_count": 16,
   "metadata": {},
   "outputs": [
    {
     "data": {
      "text/html": [
       "<div>\n",
       "<style scoped>\n",
       "    .dataframe tbody tr th:only-of-type {\n",
       "        vertical-align: middle;\n",
       "    }\n",
       "\n",
       "    .dataframe tbody tr th {\n",
       "        vertical-align: top;\n",
       "    }\n",
       "\n",
       "    .dataframe thead th {\n",
       "        text-align: right;\n",
       "    }\n",
       "</style>\n",
       "<table border=\"1\" class=\"dataframe\">\n",
       "  <thead>\n",
       "    <tr style=\"text-align: right;\">\n",
       "      <th></th>\n",
       "      <th>number</th>\n",
       "    </tr>\n",
       "    <tr>\n",
       "      <th>string</th>\n",
       "      <th></th>\n",
       "    </tr>\n",
       "  </thead>\n",
       "  <tbody>\n",
       "    <tr>\n",
       "      <th>a</th>\n",
       "      <td>1</td>\n",
       "    </tr>\n",
       "    <tr>\n",
       "      <th>b</th>\n",
       "      <td>2</td>\n",
       "    </tr>\n",
       "    <tr>\n",
       "      <th>c</th>\n",
       "      <td>3</td>\n",
       "    </tr>\n",
       "    <tr>\n",
       "      <th>d</th>\n",
       "      <td>4</td>\n",
       "    </tr>\n",
       "  </tbody>\n",
       "</table>\n",
       "</div>"
      ],
      "text/plain": [
       "        number\n",
       "string        \n",
       "a            1\n",
       "b            2\n",
       "c            3\n",
       "d            4"
      ]
     },
     "execution_count": 16,
     "metadata": {},
     "output_type": "execute_result"
    }
   ],
   "source": [
    "df5 = pd.read_csv('./assets/pandas_ex02.csv', index_col=0)\n",
    "df5"
   ]
  },
  {
   "cell_type": "markdown",
   "metadata": {},
   "source": [
    "## Pandas Viewing Data\n",
    "\n",
    "- df.head()\n",
    "- df.tail()\n",
    "- df.index()\n",
    "- df.columns()\n",
    "- df.to_numpy()\n",
    "- df.describe()\n",
    "- df.T()\n",
    "- df.sort_index()\n",
    "- df.sort_values()"
   ]
  },
  {
   "cell_type": "code",
   "execution_count": 17,
   "metadata": {},
   "outputs": [
    {
     "data": {
      "text/html": [
       "<div>\n",
       "<style scoped>\n",
       "    .dataframe tbody tr th:only-of-type {\n",
       "        vertical-align: middle;\n",
       "    }\n",
       "\n",
       "    .dataframe tbody tr th {\n",
       "        vertical-align: top;\n",
       "    }\n",
       "\n",
       "    .dataframe thead th {\n",
       "        text-align: right;\n",
       "    }\n",
       "</style>\n",
       "<table border=\"1\" class=\"dataframe\">\n",
       "  <thead>\n",
       "    <tr style=\"text-align: right;\">\n",
       "      <th></th>\n",
       "      <th>A</th>\n",
       "      <th>B</th>\n",
       "      <th>C</th>\n",
       "      <th>D</th>\n",
       "    </tr>\n",
       "  </thead>\n",
       "  <tbody>\n",
       "    <tr>\n",
       "      <th>2023-04-05</th>\n",
       "      <td>-1.084358</td>\n",
       "      <td>1.737118</td>\n",
       "      <td>0.206490</td>\n",
       "      <td>-1.586854</td>\n",
       "    </tr>\n",
       "    <tr>\n",
       "      <th>2023-04-06</th>\n",
       "      <td>-1.089963</td>\n",
       "      <td>0.154805</td>\n",
       "      <td>-0.191548</td>\n",
       "      <td>-0.023483</td>\n",
       "    </tr>\n",
       "    <tr>\n",
       "      <th>2023-04-07</th>\n",
       "      <td>0.637664</td>\n",
       "      <td>0.360932</td>\n",
       "      <td>1.028221</td>\n",
       "      <td>-1.553562</td>\n",
       "    </tr>\n",
       "    <tr>\n",
       "      <th>2023-04-08</th>\n",
       "      <td>-0.741838</td>\n",
       "      <td>-0.812139</td>\n",
       "      <td>0.492272</td>\n",
       "      <td>-0.066217</td>\n",
       "    </tr>\n",
       "    <tr>\n",
       "      <th>2023-04-09</th>\n",
       "      <td>0.347587</td>\n",
       "      <td>-0.703215</td>\n",
       "      <td>-0.516750</td>\n",
       "      <td>-0.272927</td>\n",
       "    </tr>\n",
       "    <tr>\n",
       "      <th>2023-04-10</th>\n",
       "      <td>1.187298</td>\n",
       "      <td>-0.857949</td>\n",
       "      <td>-0.884736</td>\n",
       "      <td>0.867190</td>\n",
       "    </tr>\n",
       "  </tbody>\n",
       "</table>\n",
       "</div>"
      ],
      "text/plain": [
       "                   A         B         C         D\n",
       "2023-04-05 -1.084358  1.737118  0.206490 -1.586854\n",
       "2023-04-06 -1.089963  0.154805 -0.191548 -0.023483\n",
       "2023-04-07  0.637664  0.360932  1.028221 -1.553562\n",
       "2023-04-08 -0.741838 -0.812139  0.492272 -0.066217\n",
       "2023-04-09  0.347587 -0.703215 -0.516750 -0.272927\n",
       "2023-04-10  1.187298 -0.857949 -0.884736  0.867190"
      ]
     },
     "execution_count": 17,
     "metadata": {},
     "output_type": "execute_result"
    }
   ],
   "source": [
    "dates = pd.date_range('20230405', periods=6)\n",
    "df = pd.DataFrame(np.random.randn(6, 4), index=dates, columns=list('ABCD'))\n",
    "df"
   ]
  },
  {
   "cell_type": "code",
   "execution_count": 19,
   "metadata": {},
   "outputs": [
    {
     "data": {
      "text/html": [
       "<div>\n",
       "<style scoped>\n",
       "    .dataframe tbody tr th:only-of-type {\n",
       "        vertical-align: middle;\n",
       "    }\n",
       "\n",
       "    .dataframe tbody tr th {\n",
       "        vertical-align: top;\n",
       "    }\n",
       "\n",
       "    .dataframe thead th {\n",
       "        text-align: right;\n",
       "    }\n",
       "</style>\n",
       "<table border=\"1\" class=\"dataframe\">\n",
       "  <thead>\n",
       "    <tr style=\"text-align: right;\">\n",
       "      <th></th>\n",
       "      <th>A</th>\n",
       "      <th>B</th>\n",
       "      <th>C</th>\n",
       "      <th>D</th>\n",
       "    </tr>\n",
       "  </thead>\n",
       "  <tbody>\n",
       "    <tr>\n",
       "      <th>2023-04-05</th>\n",
       "      <td>-1.084358</td>\n",
       "      <td>1.737118</td>\n",
       "      <td>0.206490</td>\n",
       "      <td>-1.586854</td>\n",
       "    </tr>\n",
       "    <tr>\n",
       "      <th>2023-04-06</th>\n",
       "      <td>-1.089963</td>\n",
       "      <td>0.154805</td>\n",
       "      <td>-0.191548</td>\n",
       "      <td>-0.023483</td>\n",
       "    </tr>\n",
       "  </tbody>\n",
       "</table>\n",
       "</div>"
      ],
      "text/plain": [
       "                   A         B         C         D\n",
       "2023-04-05 -1.084358  1.737118  0.206490 -1.586854\n",
       "2023-04-06 -1.089963  0.154805 -0.191548 -0.023483"
      ]
     },
     "execution_count": 19,
     "metadata": {},
     "output_type": "execute_result"
    }
   ],
   "source": [
    "df.head(2)"
   ]
  },
  {
   "cell_type": "code",
   "execution_count": 20,
   "metadata": {},
   "outputs": [
    {
     "data": {
      "text/html": [
       "<div>\n",
       "<style scoped>\n",
       "    .dataframe tbody tr th:only-of-type {\n",
       "        vertical-align: middle;\n",
       "    }\n",
       "\n",
       "    .dataframe tbody tr th {\n",
       "        vertical-align: top;\n",
       "    }\n",
       "\n",
       "    .dataframe thead th {\n",
       "        text-align: right;\n",
       "    }\n",
       "</style>\n",
       "<table border=\"1\" class=\"dataframe\">\n",
       "  <thead>\n",
       "    <tr style=\"text-align: right;\">\n",
       "      <th></th>\n",
       "      <th>A</th>\n",
       "      <th>B</th>\n",
       "      <th>C</th>\n",
       "      <th>D</th>\n",
       "    </tr>\n",
       "  </thead>\n",
       "  <tbody>\n",
       "    <tr>\n",
       "      <th>2023-04-07</th>\n",
       "      <td>0.637664</td>\n",
       "      <td>0.360932</td>\n",
       "      <td>1.028221</td>\n",
       "      <td>-1.553562</td>\n",
       "    </tr>\n",
       "    <tr>\n",
       "      <th>2023-04-08</th>\n",
       "      <td>-0.741838</td>\n",
       "      <td>-0.812139</td>\n",
       "      <td>0.492272</td>\n",
       "      <td>-0.066217</td>\n",
       "    </tr>\n",
       "    <tr>\n",
       "      <th>2023-04-09</th>\n",
       "      <td>0.347587</td>\n",
       "      <td>-0.703215</td>\n",
       "      <td>-0.516750</td>\n",
       "      <td>-0.272927</td>\n",
       "    </tr>\n",
       "    <tr>\n",
       "      <th>2023-04-10</th>\n",
       "      <td>1.187298</td>\n",
       "      <td>-0.857949</td>\n",
       "      <td>-0.884736</td>\n",
       "      <td>0.867190</td>\n",
       "    </tr>\n",
       "  </tbody>\n",
       "</table>\n",
       "</div>"
      ],
      "text/plain": [
       "                   A         B         C         D\n",
       "2023-04-07  0.637664  0.360932  1.028221 -1.553562\n",
       "2023-04-08 -0.741838 -0.812139  0.492272 -0.066217\n",
       "2023-04-09  0.347587 -0.703215 -0.516750 -0.272927\n",
       "2023-04-10  1.187298 -0.857949 -0.884736  0.867190"
      ]
     },
     "execution_count": 20,
     "metadata": {},
     "output_type": "execute_result"
    }
   ],
   "source": [
    "df.tail(4)"
   ]
  },
  {
   "cell_type": "code",
   "execution_count": 21,
   "metadata": {},
   "outputs": [
    {
     "data": {
      "text/plain": [
       "DatetimeIndex(['2023-04-05', '2023-04-06', '2023-04-07', '2023-04-08',\n",
       "               '2023-04-09', '2023-04-10'],\n",
       "              dtype='datetime64[ns]', freq='D')"
      ]
     },
     "execution_count": 21,
     "metadata": {},
     "output_type": "execute_result"
    }
   ],
   "source": [
    "df.index"
   ]
  },
  {
   "cell_type": "code",
   "execution_count": 22,
   "metadata": {},
   "outputs": [
    {
     "data": {
      "text/plain": [
       "Index(['A', 'B', 'C', 'D'], dtype='object')"
      ]
     },
     "execution_count": 22,
     "metadata": {},
     "output_type": "execute_result"
    }
   ],
   "source": [
    "df.columns"
   ]
  },
  {
   "cell_type": "code",
   "execution_count": 23,
   "metadata": {},
   "outputs": [
    {
     "data": {
      "text/plain": [
       "array([[-1.08435773,  1.7371177 ,  0.20649026, -1.58685445],\n",
       "       [-1.08996343,  0.15480494, -0.19154846, -0.02348342],\n",
       "       [ 0.63766413,  0.36093221,  1.02822147, -1.55356222],\n",
       "       [-0.74183754, -0.81213936,  0.49227164, -0.06621746],\n",
       "       [ 0.34758704, -0.7032153 , -0.51674978, -0.27292686],\n",
       "       [ 1.18729758, -0.8579485 , -0.88473648,  0.86719047]])"
      ]
     },
     "execution_count": 23,
     "metadata": {},
     "output_type": "execute_result"
    }
   ],
   "source": [
    "df.to_numpy()"
   ]
  },
  {
   "cell_type": "code",
   "execution_count": 24,
   "metadata": {},
   "outputs": [
    {
     "data": {
      "text/html": [
       "<div>\n",
       "<style scoped>\n",
       "    .dataframe tbody tr th:only-of-type {\n",
       "        vertical-align: middle;\n",
       "    }\n",
       "\n",
       "    .dataframe tbody tr th {\n",
       "        vertical-align: top;\n",
       "    }\n",
       "\n",
       "    .dataframe thead th {\n",
       "        text-align: right;\n",
       "    }\n",
       "</style>\n",
       "<table border=\"1\" class=\"dataframe\">\n",
       "  <thead>\n",
       "    <tr style=\"text-align: right;\">\n",
       "      <th></th>\n",
       "      <th>A</th>\n",
       "      <th>B</th>\n",
       "      <th>C</th>\n",
       "      <th>D</th>\n",
       "    </tr>\n",
       "  </thead>\n",
       "  <tbody>\n",
       "    <tr>\n",
       "      <th>count</th>\n",
       "      <td>6.000000</td>\n",
       "      <td>6.000000</td>\n",
       "      <td>6.000000</td>\n",
       "      <td>6.000000</td>\n",
       "    </tr>\n",
       "    <tr>\n",
       "      <th>mean</th>\n",
       "      <td>-0.123935</td>\n",
       "      <td>-0.020075</td>\n",
       "      <td>0.022325</td>\n",
       "      <td>-0.439309</td>\n",
       "    </tr>\n",
       "    <tr>\n",
       "      <th>std</th>\n",
       "      <td>0.975615</td>\n",
       "      <td>1.005938</td>\n",
       "      <td>0.696520</td>\n",
       "      <td>0.959703</td>\n",
       "    </tr>\n",
       "    <tr>\n",
       "      <th>min</th>\n",
       "      <td>-1.089963</td>\n",
       "      <td>-0.857949</td>\n",
       "      <td>-0.884736</td>\n",
       "      <td>-1.586854</td>\n",
       "    </tr>\n",
       "    <tr>\n",
       "      <th>25%</th>\n",
       "      <td>-0.998728</td>\n",
       "      <td>-0.784908</td>\n",
       "      <td>-0.435449</td>\n",
       "      <td>-1.233403</td>\n",
       "    </tr>\n",
       "    <tr>\n",
       "      <th>50%</th>\n",
       "      <td>-0.197125</td>\n",
       "      <td>-0.274205</td>\n",
       "      <td>0.007471</td>\n",
       "      <td>-0.169572</td>\n",
       "    </tr>\n",
       "    <tr>\n",
       "      <th>75%</th>\n",
       "      <td>0.565145</td>\n",
       "      <td>0.309400</td>\n",
       "      <td>0.420826</td>\n",
       "      <td>-0.034167</td>\n",
       "    </tr>\n",
       "    <tr>\n",
       "      <th>max</th>\n",
       "      <td>1.187298</td>\n",
       "      <td>1.737118</td>\n",
       "      <td>1.028221</td>\n",
       "      <td>0.867190</td>\n",
       "    </tr>\n",
       "  </tbody>\n",
       "</table>\n",
       "</div>"
      ],
      "text/plain": [
       "              A         B         C         D\n",
       "count  6.000000  6.000000  6.000000  6.000000\n",
       "mean  -0.123935 -0.020075  0.022325 -0.439309\n",
       "std    0.975615  1.005938  0.696520  0.959703\n",
       "min   -1.089963 -0.857949 -0.884736 -1.586854\n",
       "25%   -0.998728 -0.784908 -0.435449 -1.233403\n",
       "50%   -0.197125 -0.274205  0.007471 -0.169572\n",
       "75%    0.565145  0.309400  0.420826 -0.034167\n",
       "max    1.187298  1.737118  1.028221  0.867190"
      ]
     },
     "execution_count": 24,
     "metadata": {},
     "output_type": "execute_result"
    }
   ],
   "source": [
    "df.describe()"
   ]
  },
  {
   "cell_type": "code",
   "execution_count": 26,
   "metadata": {},
   "outputs": [
    {
     "name": "stdout",
     "output_type": "stream",
     "text": [
      "                   A         B         C         D\n",
      "2023-04-05 -1.084358  1.737118  0.206490 -1.586854\n",
      "2023-04-06 -1.089963  0.154805 -0.191548 -0.023483\n",
      "2023-04-07  0.637664  0.360932  1.028221 -1.553562\n",
      "2023-04-08 -0.741838 -0.812139  0.492272 -0.066217\n",
      "2023-04-09  0.347587 -0.703215 -0.516750 -0.272927\n",
      "2023-04-10  1.187298 -0.857949 -0.884736  0.867190\n",
      "\n",
      "   2023-04-05  2023-04-06  2023-04-07  2023-04-08  2023-04-09  2023-04-10\n",
      "A   -1.084358   -1.089963    0.637664   -0.741838    0.347587    1.187298\n",
      "B    1.737118    0.154805    0.360932   -0.812139   -0.703215   -0.857949\n",
      "C    0.206490   -0.191548    1.028221    0.492272   -0.516750   -0.884736\n",
      "D   -1.586854   -0.023483   -1.553562   -0.066217   -0.272927    0.867190\n"
     ]
    }
   ],
   "source": [
    "print(df)\n",
    "print()\n",
    "print(df.T)"
   ]
  },
  {
   "cell_type": "code",
   "execution_count": 38,
   "metadata": {},
   "outputs": [
    {
     "data": {
      "text/html": [
       "<div>\n",
       "<style scoped>\n",
       "    .dataframe tbody tr th:only-of-type {\n",
       "        vertical-align: middle;\n",
       "    }\n",
       "\n",
       "    .dataframe tbody tr th {\n",
       "        vertical-align: top;\n",
       "    }\n",
       "\n",
       "    .dataframe thead th {\n",
       "        text-align: right;\n",
       "    }\n",
       "</style>\n",
       "<table border=\"1\" class=\"dataframe\">\n",
       "  <thead>\n",
       "    <tr style=\"text-align: right;\">\n",
       "      <th></th>\n",
       "      <th>D</th>\n",
       "      <th>C</th>\n",
       "      <th>B</th>\n",
       "      <th>A</th>\n",
       "    </tr>\n",
       "  </thead>\n",
       "  <tbody>\n",
       "    <tr>\n",
       "      <th>2023-04-05</th>\n",
       "      <td>-1.586854</td>\n",
       "      <td>0.206490</td>\n",
       "      <td>1.737118</td>\n",
       "      <td>-1.084358</td>\n",
       "    </tr>\n",
       "    <tr>\n",
       "      <th>2023-04-06</th>\n",
       "      <td>-0.023483</td>\n",
       "      <td>-0.191548</td>\n",
       "      <td>0.154805</td>\n",
       "      <td>-1.089963</td>\n",
       "    </tr>\n",
       "    <tr>\n",
       "      <th>2023-04-07</th>\n",
       "      <td>-1.553562</td>\n",
       "      <td>1.028221</td>\n",
       "      <td>0.360932</td>\n",
       "      <td>0.637664</td>\n",
       "    </tr>\n",
       "    <tr>\n",
       "      <th>2023-04-08</th>\n",
       "      <td>-0.066217</td>\n",
       "      <td>0.492272</td>\n",
       "      <td>-0.812139</td>\n",
       "      <td>-0.741838</td>\n",
       "    </tr>\n",
       "    <tr>\n",
       "      <th>2023-04-09</th>\n",
       "      <td>-0.272927</td>\n",
       "      <td>-0.516750</td>\n",
       "      <td>-0.703215</td>\n",
       "      <td>0.347587</td>\n",
       "    </tr>\n",
       "    <tr>\n",
       "      <th>2023-04-10</th>\n",
       "      <td>0.867190</td>\n",
       "      <td>-0.884736</td>\n",
       "      <td>-0.857949</td>\n",
       "      <td>1.187298</td>\n",
       "    </tr>\n",
       "  </tbody>\n",
       "</table>\n",
       "</div>"
      ],
      "text/plain": [
       "                   D         C         B         A\n",
       "2023-04-05 -1.586854  0.206490  1.737118 -1.084358\n",
       "2023-04-06 -0.023483 -0.191548  0.154805 -1.089963\n",
       "2023-04-07 -1.553562  1.028221  0.360932  0.637664\n",
       "2023-04-08 -0.066217  0.492272 -0.812139 -0.741838\n",
       "2023-04-09 -0.272927 -0.516750 -0.703215  0.347587\n",
       "2023-04-10  0.867190 -0.884736 -0.857949  1.187298"
      ]
     },
     "execution_count": 38,
     "metadata": {},
     "output_type": "execute_result"
    }
   ],
   "source": [
    "df.sort_index(axis=1, ascending=False)"
   ]
  },
  {
   "cell_type": "code",
   "execution_count": 39,
   "metadata": {},
   "outputs": [
    {
     "data": {
      "text/html": [
       "<div>\n",
       "<style scoped>\n",
       "    .dataframe tbody tr th:only-of-type {\n",
       "        vertical-align: middle;\n",
       "    }\n",
       "\n",
       "    .dataframe tbody tr th {\n",
       "        vertical-align: top;\n",
       "    }\n",
       "\n",
       "    .dataframe thead th {\n",
       "        text-align: right;\n",
       "    }\n",
       "</style>\n",
       "<table border=\"1\" class=\"dataframe\">\n",
       "  <thead>\n",
       "    <tr style=\"text-align: right;\">\n",
       "      <th></th>\n",
       "      <th>A</th>\n",
       "      <th>B</th>\n",
       "      <th>C</th>\n",
       "      <th>D</th>\n",
       "    </tr>\n",
       "  </thead>\n",
       "  <tbody>\n",
       "    <tr>\n",
       "      <th>2023-04-10</th>\n",
       "      <td>1.187298</td>\n",
       "      <td>-0.857949</td>\n",
       "      <td>-0.884736</td>\n",
       "      <td>0.867190</td>\n",
       "    </tr>\n",
       "    <tr>\n",
       "      <th>2023-04-08</th>\n",
       "      <td>-0.741838</td>\n",
       "      <td>-0.812139</td>\n",
       "      <td>0.492272</td>\n",
       "      <td>-0.066217</td>\n",
       "    </tr>\n",
       "    <tr>\n",
       "      <th>2023-04-09</th>\n",
       "      <td>0.347587</td>\n",
       "      <td>-0.703215</td>\n",
       "      <td>-0.516750</td>\n",
       "      <td>-0.272927</td>\n",
       "    </tr>\n",
       "    <tr>\n",
       "      <th>2023-04-06</th>\n",
       "      <td>-1.089963</td>\n",
       "      <td>0.154805</td>\n",
       "      <td>-0.191548</td>\n",
       "      <td>-0.023483</td>\n",
       "    </tr>\n",
       "    <tr>\n",
       "      <th>2023-04-07</th>\n",
       "      <td>0.637664</td>\n",
       "      <td>0.360932</td>\n",
       "      <td>1.028221</td>\n",
       "      <td>-1.553562</td>\n",
       "    </tr>\n",
       "    <tr>\n",
       "      <th>2023-04-05</th>\n",
       "      <td>-1.084358</td>\n",
       "      <td>1.737118</td>\n",
       "      <td>0.206490</td>\n",
       "      <td>-1.586854</td>\n",
       "    </tr>\n",
       "  </tbody>\n",
       "</table>\n",
       "</div>"
      ],
      "text/plain": [
       "                   A         B         C         D\n",
       "2023-04-10  1.187298 -0.857949 -0.884736  0.867190\n",
       "2023-04-08 -0.741838 -0.812139  0.492272 -0.066217\n",
       "2023-04-09  0.347587 -0.703215 -0.516750 -0.272927\n",
       "2023-04-06 -1.089963  0.154805 -0.191548 -0.023483\n",
       "2023-04-07  0.637664  0.360932  1.028221 -1.553562\n",
       "2023-04-05 -1.084358  1.737118  0.206490 -1.586854"
      ]
     },
     "execution_count": 39,
     "metadata": {},
     "output_type": "execute_result"
    }
   ],
   "source": [
    "df.sort_values(by='B')"
   ]
  },
  {
   "cell_type": "markdown",
   "metadata": {},
   "source": [
    "## Pandas Data Selection\n",
    "\n",
    "- df.loc\n",
    "- df.iloc\n",
    "- df.at\n",
    "- df.iat\n",
    "- df.isin()"
   ]
  },
  {
   "cell_type": "code",
   "execution_count": 47,
   "metadata": {},
   "outputs": [
    {
     "name": "stdout",
     "output_type": "stream",
     "text": [
      "DatetimeIndex(['2013-01-01', '2013-01-02', '2013-01-03', '2013-01-04',\n",
      "               '2013-01-05', '2013-01-06'],\n",
      "              dtype='datetime64[ns]', freq='D')\n",
      "                   A         B         C         D\n",
      "2013-01-01  1.764052  0.400157  0.978738  2.240893\n",
      "2013-01-02  1.867558 -0.977278  0.950088 -0.151357\n",
      "2013-01-03 -0.103219  0.410599  0.144044  1.454274\n",
      "2013-01-04  0.761038  0.121675  0.443863  0.333674\n",
      "2013-01-05  1.494079 -0.205158  0.313068 -0.854096\n",
      "2013-01-06 -2.552990  0.653619  0.864436 -0.742165\n"
     ]
    }
   ],
   "source": [
    "np.random.seed(0)\n",
    "\n",
    "dates = pd.date_range('20130101', periods=6)\n",
    "df = pd.DataFrame(np.random.randn(6, 4), index=dates, columns=list('ABCD'))\n",
    "\n",
    "print(dates)\n",
    "print(df)"
   ]
  },
  {
   "cell_type": "code",
   "execution_count": 41,
   "metadata": {},
   "outputs": [
    {
     "name": "stdout",
     "output_type": "stream",
     "text": [
      "2013-01-01    1.764052\n",
      "2013-01-02    1.867558\n",
      "2013-01-03   -0.103219\n",
      "2013-01-04    0.761038\n",
      "2013-01-05    1.494079\n",
      "2013-01-06   -2.552990\n",
      "Freq: D, Name: A, dtype: float64\n",
      "<class 'pandas.core.series.Series'>\n"
     ]
    }
   ],
   "source": [
    "# 열 선택하기\n",
    "print(df['A'])\n",
    "#print(df.A)\n",
    "print(type(df['A']))"
   ]
  },
  {
   "cell_type": "code",
   "execution_count": 42,
   "metadata": {},
   "outputs": [
    {
     "name": "stdout",
     "output_type": "stream",
     "text": [
      "                   A         B         C         D\n",
      "2013-01-01  1.764052  0.400157  0.978738  2.240893\n",
      "2013-01-02  1.867558 -0.977278  0.950088 -0.151357\n",
      "2013-01-03 -0.103219  0.410599  0.144044  1.454274\n"
     ]
    }
   ],
   "source": [
    "# 행 선택하기\n",
    "print(df[0:3])"
   ]
  },
  {
   "cell_type": "code",
   "execution_count": 43,
   "metadata": {},
   "outputs": [
    {
     "name": "stdout",
     "output_type": "stream",
     "text": [
      "A    1.764052\n",
      "B    0.400157\n",
      "C    0.978738\n",
      "D    2.240893\n",
      "Name: 2013-01-01 00:00:00, dtype: float64\n"
     ]
    }
   ],
   "source": [
    "# 레이블로 선택하기\n",
    "print(df.loc[dates[0]])"
   ]
  },
  {
   "cell_type": "code",
   "execution_count": 44,
   "metadata": {},
   "outputs": [
    {
     "name": "stdout",
     "output_type": "stream",
     "text": [
      "                   A         B\n",
      "2013-01-01  1.764052  0.400157\n",
      "2013-01-02  1.867558 -0.977278\n",
      "2013-01-03 -0.103219  0.410599\n",
      "2013-01-04  0.761038  0.121675\n",
      "2013-01-05  1.494079 -0.205158\n",
      "2013-01-06 -2.552990  0.653619\n"
     ]
    }
   ],
   "source": [
    "print(df.loc[:, ['A', 'B']])"
   ]
  },
  {
   "cell_type": "code",
   "execution_count": 45,
   "metadata": {},
   "outputs": [
    {
     "name": "stdout",
     "output_type": "stream",
     "text": [
      "A    0.761038\n",
      "B    0.121675\n",
      "Name: 2013-01-04 00:00:00, dtype: float64\n"
     ]
    }
   ],
   "source": [
    "print(df.loc['20130104', ['A', 'B']])"
   ]
  },
  {
   "cell_type": "code",
   "execution_count": 46,
   "metadata": {},
   "outputs": [
    {
     "data": {
      "text/plain": [
       "1.764052345967664"
      ]
     },
     "execution_count": 46,
     "metadata": {},
     "output_type": "execute_result"
    }
   ],
   "source": [
    "df.loc[dates[0], 'A']"
   ]
  },
  {
   "cell_type": "code",
   "execution_count": 48,
   "metadata": {},
   "outputs": [
    {
     "data": {
      "text/plain": [
       "1.764052345967664"
      ]
     },
     "execution_count": 48,
     "metadata": {},
     "output_type": "execute_result"
    }
   ],
   "source": [
    "df.at[dates[0], 'A']"
   ]
  },
  {
   "cell_type": "code",
   "execution_count": 50,
   "metadata": {},
   "outputs": [
    {
     "name": "stdout",
     "output_type": "stream",
     "text": [
      "                   A         B         C         D\n",
      "2013-01-01  1.764052  0.400157  0.978738  2.240893\n",
      "2013-01-02  1.867558 -0.977278  0.950088 -0.151357\n",
      "2013-01-03 -0.103219  0.410599  0.144044  1.454274\n",
      "2013-01-04  0.761038  0.121675  0.443863  0.333674\n",
      "2013-01-05  1.494079 -0.205158  0.313068 -0.854096\n",
      "2013-01-06 -2.552990  0.653619  0.864436 -0.742165\n",
      "\n",
      "A    0.761038\n",
      "B    0.121675\n",
      "C    0.443863\n",
      "D    0.333674\n",
      "Name: 2013-01-04 00:00:00, dtype: float64\n"
     ]
    }
   ],
   "source": [
    "print(df)\n",
    "print()\n",
    "print(df.iloc[3]) # df.iloc[row position, col position]"
   ]
  },
  {
   "cell_type": "code",
   "execution_count": 51,
   "metadata": {},
   "outputs": [
    {
     "name": "stdout",
     "output_type": "stream",
     "text": [
      "                   A         B         C         D\n",
      "2013-01-01  1.764052  0.400157  0.978738  2.240893\n",
      "2013-01-02  1.867558 -0.977278  0.950088 -0.151357\n",
      "2013-01-03 -0.103219  0.410599  0.144044  1.454274\n",
      "2013-01-04  0.761038  0.121675  0.443863  0.333674\n",
      "2013-01-05  1.494079 -0.205158  0.313068 -0.854096\n",
      "2013-01-06 -2.552990  0.653619  0.864436 -0.742165\n",
      "\n",
      "                   A         B         C\n",
      "2013-01-03 -0.103219  0.410599  0.144044\n",
      "2013-01-04  0.761038  0.121675  0.443863\n"
     ]
    }
   ],
   "source": [
    "print(df)\n",
    "print()\n",
    "print(df.iloc[2:4, 0:3])"
   ]
  },
  {
   "cell_type": "code",
   "execution_count": 52,
   "metadata": {},
   "outputs": [
    {
     "name": "stdout",
     "output_type": "stream",
     "text": [
      "                   A         B         C         D\n",
      "2013-01-01  1.764052  0.400157  0.978738  2.240893\n",
      "2013-01-02  1.867558 -0.977278  0.950088 -0.151357\n",
      "2013-01-03 -0.103219  0.410599  0.144044  1.454274\n",
      "2013-01-04  0.761038  0.121675  0.443863  0.333674\n",
      "2013-01-05  1.494079 -0.205158  0.313068 -0.854096\n",
      "2013-01-06 -2.552990  0.653619  0.864436 -0.742165\n",
      "\n",
      "                   A         D\n",
      "2013-01-02  1.867558 -0.151357\n",
      "2013-01-03 -0.103219  1.454274\n",
      "2013-01-05  1.494079 -0.854096\n"
     ]
    }
   ],
   "source": [
    "print(df)\n",
    "print()\n",
    "print(df.iloc[[1,2,4], [0, 3]])"
   ]
  },
  {
   "cell_type": "code",
   "execution_count": 57,
   "metadata": {},
   "outputs": [
    {
     "name": "stdout",
     "output_type": "stream",
     "text": [
      "                   A         B         C         D\n",
      "2013-01-01  1.764052  0.400157  0.978738  2.240893\n",
      "2013-01-02  1.867558 -0.977278  0.950088 -0.151357\n",
      "2013-01-03 -0.103219  0.410599  0.144044  1.454274\n",
      "2013-01-04  0.761038  0.121675  0.443863  0.333674\n",
      "2013-01-05  1.494079 -0.205158  0.313068 -0.854096\n",
      "2013-01-06 -2.552990  0.653619  0.864436 -0.742165\n",
      "\n",
      "-0.7421650204064419\n"
     ]
    }
   ],
   "source": [
    "print(df)\n",
    "print()\n",
    "print(df.iloc[5, 3])"
   ]
  },
  {
   "cell_type": "code",
   "execution_count": 59,
   "metadata": {},
   "outputs": [
    {
     "name": "stdout",
     "output_type": "stream",
     "text": [
      "                   A         B         C         D\n",
      "2013-01-01  1.764052  0.400157  0.978738  2.240893\n",
      "2013-01-02  1.867558 -0.977278  0.950088 -0.151357\n",
      "2013-01-03 -0.103219  0.410599  0.144044  1.454274\n",
      "2013-01-04  0.761038  0.121675  0.443863  0.333674\n",
      "2013-01-05  1.494079 -0.205158  0.313068 -0.854096\n",
      "2013-01-06 -2.552990  0.653619  0.864436 -0.742165\n",
      "\n",
      "-0.7421650204064419\n"
     ]
    }
   ],
   "source": [
    "print(df)\n",
    "print()\n",
    "print(df.iat[5, 3])"
   ]
  },
  {
   "cell_type": "code",
   "execution_count": 60,
   "metadata": {},
   "outputs": [
    {
     "name": "stdout",
     "output_type": "stream",
     "text": [
      "                   A         B         C         D\n",
      "2013-01-01  1.764052  0.400157  0.978738  2.240893\n",
      "2013-01-02  1.867558 -0.977278  0.950088 -0.151357\n",
      "2013-01-03 -0.103219  0.410599  0.144044  1.454274\n",
      "2013-01-04  0.761038  0.121675  0.443863  0.333674\n",
      "2013-01-05  1.494079 -0.205158  0.313068 -0.854096\n",
      "2013-01-06 -2.552990  0.653619  0.864436 -0.742165\n",
      "\n",
      "2013-01-01    False\n",
      "2013-01-02    False\n",
      "2013-01-03    False\n",
      "2013-01-04    False\n",
      "2013-01-05    False\n",
      "2013-01-06    False\n",
      "Freq: D, Name: A, dtype: bool\n"
     ]
    }
   ],
   "source": [
    "print(df)\n",
    "print()\n",
    "print(df.A > 2)"
   ]
  },
  {
   "cell_type": "code",
   "execution_count": 61,
   "metadata": {},
   "outputs": [
    {
     "name": "stdout",
     "output_type": "stream",
     "text": [
      "                   A         B         C         D\n",
      "2013-01-01  1.764052  0.400157  0.978738  2.240893\n",
      "2013-01-02  1.867558 -0.977278  0.950088 -0.151357\n",
      "2013-01-03 -0.103219  0.410599  0.144044  1.454274\n",
      "2013-01-04  0.761038  0.121675  0.443863  0.333674\n",
      "2013-01-05  1.494079 -0.205158  0.313068 -0.854096\n",
      "2013-01-06 -2.552990  0.653619  0.864436 -0.742165\n",
      "\n",
      "                   A   B   C         D\n",
      "2013-01-01  1.764052 NaN NaN  2.240893\n",
      "2013-01-02  1.867558 NaN NaN       NaN\n",
      "2013-01-03       NaN NaN NaN  1.454274\n",
      "2013-01-04       NaN NaN NaN       NaN\n",
      "2013-01-05  1.494079 NaN NaN       NaN\n",
      "2013-01-06       NaN NaN NaN       NaN\n"
     ]
    }
   ],
   "source": [
    "print(df)\n",
    "print()\n",
    "print(df[df>1])"
   ]
  },
  {
   "cell_type": "code",
   "execution_count": 63,
   "metadata": {},
   "outputs": [
    {
     "name": "stdout",
     "output_type": "stream",
     "text": [
      "                   A         B         C         D      E\n",
      "2013-01-01  1.764052  0.400157  0.978738  2.240893    one\n",
      "2013-01-02  1.867558 -0.977278  0.950088 -0.151357    one\n",
      "2013-01-03 -0.103219  0.410599  0.144044  1.454274    two\n",
      "2013-01-04  0.761038  0.121675  0.443863  0.333674  three\n",
      "2013-01-05  1.494079 -0.205158  0.313068 -0.854096   four\n",
      "2013-01-06 -2.552990  0.653619  0.864436 -0.742165  three\n",
      "\n",
      "                   A         B         C         D     E\n",
      "2013-01-03 -0.103219  0.410599  0.144044  1.454274   two\n",
      "2013-01-05  1.494079 -0.205158  0.313068 -0.854096  four\n"
     ]
    }
   ],
   "source": [
    "df2 = df.copy()\n",
    "df2['E'] = ['one', 'one', 'two', 'three', 'four', 'three']\n",
    "\n",
    "print(df2)\n",
    "print()\n",
    "print(df2[df2['E'].isin(['two', 'four'])]) # Filtering"
   ]
  },
  {
   "cell_type": "code",
   "execution_count": 65,
   "metadata": {},
   "outputs": [
    {
     "name": "stdout",
     "output_type": "stream",
     "text": [
      "2013-01-02    1\n",
      "2013-01-03    2\n",
      "2013-01-04    3\n",
      "2013-01-05    4\n",
      "2013-01-06    5\n",
      "2013-01-07    6\n",
      "Freq: D, dtype: int64\n",
      "\n",
      "                   A         B         C         D    F\n",
      "2013-01-01  1.764052  0.400157  0.978738  2.240893  NaN\n",
      "2013-01-02  1.867558 -0.977278  0.950088 -0.151357  1.0\n",
      "2013-01-03 -0.103219  0.410599  0.144044  1.454274  2.0\n",
      "2013-01-04  0.761038  0.121675  0.443863  0.333674  3.0\n",
      "2013-01-05  1.494079 -0.205158  0.313068 -0.854096  4.0\n",
      "2013-01-06 -2.552990  0.653619  0.864436 -0.742165  5.0\n"
     ]
    }
   ],
   "source": [
    "s1 = pd.Series([1, 2, 3, 4, 5, 6], index=pd.date_range('20130102', periods=6))\n",
    "print(s1)\n",
    "\n",
    "print()\n",
    "\n",
    "df['F'] = s1\n",
    "print(df)"
   ]
  },
  {
   "cell_type": "code",
   "execution_count": 66,
   "metadata": {},
   "outputs": [
    {
     "name": "stdout",
     "output_type": "stream",
     "text": [
      "                   A         B         C         D    F\n",
      "2013-01-01  0.000000  0.400157  0.978738  2.240893  NaN\n",
      "2013-01-02  1.867558 -0.977278  0.950088 -0.151357  1.0\n",
      "2013-01-03 -0.103219  0.410599  0.144044  1.454274  2.0\n",
      "2013-01-04  0.761038  0.121675  0.443863  0.333674  3.0\n",
      "2013-01-05  1.494079 -0.205158  0.313068 -0.854096  4.0\n",
      "2013-01-06 -2.552990  0.653619  0.864436 -0.742165  5.0\n"
     ]
    }
   ],
   "source": [
    "df.at[dates[0], 'A'] = 0\n",
    "\n",
    "print(df)"
   ]
  },
  {
   "cell_type": "code",
   "execution_count": 67,
   "metadata": {},
   "outputs": [
    {
     "name": "stdout",
     "output_type": "stream",
     "text": [
      "                   A         B         C         D    F\n",
      "2013-01-01  0.000000  0.000000  0.978738  2.240893  NaN\n",
      "2013-01-02  1.867558 -0.977278  0.950088 -0.151357  1.0\n",
      "2013-01-03 -0.103219  0.410599  0.144044  1.454274  2.0\n",
      "2013-01-04  0.761038  0.121675  0.443863  0.333674  3.0\n",
      "2013-01-05  1.494079 -0.205158  0.313068 -0.854096  4.0\n",
      "2013-01-06 -2.552990  0.653619  0.864436 -0.742165  5.0\n"
     ]
    }
   ],
   "source": [
    "df.iat[0, 1] = 0\n",
    "\n",
    "print(df)"
   ]
  },
  {
   "cell_type": "code",
   "execution_count": 68,
   "metadata": {},
   "outputs": [
    {
     "name": "stdout",
     "output_type": "stream",
     "text": [
      "                   A         B         C  D    F\n",
      "2013-01-01  0.000000  0.000000  0.978738  5  NaN\n",
      "2013-01-02  1.867558 -0.977278  0.950088  5  1.0\n",
      "2013-01-03 -0.103219  0.410599  0.144044  5  2.0\n",
      "2013-01-04  0.761038  0.121675  0.443863  5  3.0\n",
      "2013-01-05  1.494079 -0.205158  0.313068  5  4.0\n",
      "2013-01-06 -2.552990  0.653619  0.864436  5  5.0\n"
     ]
    }
   ],
   "source": [
    "df.loc[:, 'D'] = np.array([5] * len(df))\n",
    "\n",
    "print(df)"
   ]
  },
  {
   "cell_type": "code",
   "execution_count": 69,
   "metadata": {},
   "outputs": [
    {
     "name": "stdout",
     "output_type": "stream",
     "text": [
      "                   A         B         C  D    F\n",
      "2013-01-01  0.000000  0.000000 -0.978738 -5  NaN\n",
      "2013-01-02 -1.867558 -0.977278 -0.950088 -5 -1.0\n",
      "2013-01-03 -0.103219 -0.410599 -0.144044 -5 -2.0\n",
      "2013-01-04 -0.761038 -0.121675 -0.443863 -5 -3.0\n",
      "2013-01-05 -1.494079 -0.205158 -0.313068 -5 -4.0\n",
      "2013-01-06 -2.552990 -0.653619 -0.864436 -5 -5.0\n"
     ]
    }
   ],
   "source": [
    "df2 = df.copy()\n",
    "df2[df2 > 0] = -df2\n",
    "\n",
    "print(df2)"
   ]
  },
  {
   "cell_type": "code",
   "execution_count": null,
   "metadata": {},
   "outputs": [],
   "source": []
  }
 ],
 "metadata": {
  "kernelspec": {
   "display_name": "Python 3.10.6 64-bit",
   "language": "python",
   "name": "python3"
  },
  "language_info": {
   "codemirror_mode": {
    "name": "ipython",
    "version": 3
   },
   "file_extension": ".py",
   "mimetype": "text/x-python",
   "name": "python",
   "nbconvert_exporter": "python",
   "pygments_lexer": "ipython3",
   "version": "3.10.6"
  },
  "orig_nbformat": 4,
  "vscode": {
   "interpreter": {
    "hash": "afb734500600fd355917ca529030176ea0ca205570884b88f2f6f7d791fd3fbe"
   }
  }
 },
 "nbformat": 4,
 "nbformat_minor": 2
}
