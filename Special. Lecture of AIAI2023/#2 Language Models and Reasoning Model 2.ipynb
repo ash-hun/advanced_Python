{
 "cells": [
  {
   "cell_type": "markdown",
   "metadata": {},
   "source": [
    "# **Language Models and Reasoning Model 2**\n",
    "\n",
    "---  \n",
    "- **Date** : Jan. 10. 2023\n",
    "- **Speech** : 여진영, 연세대학교 인공지능학과\n",
    "- **Conference** : AIAI2023 : 최신 AI 기술 동향과 비즈니스 그리고 자연어 처리\n",
    "\n",
    "---  \n",
    "\n",
    "> RNN부터 Transformer 기반의 언어 모델까지 다양한 자연어처리 모델에 대해 배우고 텍스트 분류, 질의응답, 상식추론, 대화모델 등 다양한 테스크에 활용하는 방식을 알려드립니다."
   ]
  },
  {
   "cell_type": "code",
   "execution_count": 1,
   "metadata": {},
   "outputs": [],
   "source": [
    "# Module Importing\n",
    "import torch\n",
    "import tensorflow as tf"
   ]
  },
  {
   "cell_type": "code",
   "execution_count": null,
   "metadata": {},
   "outputs": [],
   "source": []
  }
 ],
 "metadata": {
  "kernelspec": {
   "display_name": "Python 3.9.5 64-bit",
   "language": "python",
   "name": "python3"
  },
  "language_info": {
   "codemirror_mode": {
    "name": "ipython",
    "version": 3
   },
   "file_extension": ".py",
   "mimetype": "text/x-python",
   "name": "python",
   "nbconvert_exporter": "python",
   "pygments_lexer": "ipython3",
   "version": "3.9.5"
  },
  "orig_nbformat": 4,
  "vscode": {
   "interpreter": {
    "hash": "cf92aa13fedf815d5c8dd192b8d835913fde3e8bc926b2a0ad6cc74ef2ba3ca2"
   }
  }
 },
 "nbformat": 4,
 "nbformat_minor": 2
}
