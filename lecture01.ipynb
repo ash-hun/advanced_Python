{
 "cells": [
  {
   "cell_type": "markdown",
   "metadata": {},
   "source": [
    "# Lecture 01\n",
    "\n",
    "### Environment Setting\n",
    "- Python > 3.9.5\n",
    "- IDE Pycharm, Jupyter Notebook, Github Codespace\n",
    "\n",
    "Thxs :)"
   ]
  }
 ],
 "metadata": {
  "language_info": {
   "name": "python"
  },
  "orig_nbformat": 4
 },
 "nbformat": 4,
 "nbformat_minor": 2
}
